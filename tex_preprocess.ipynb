{
 "cells": [
  {
   "cell_type": "code",
   "execution_count": null,
   "metadata": {},
   "outputs": [],
   "source": [
    "import re\n",
    "\n",
    "latex_file = './V01N01-04.tex'\n",
    "with open(latex_file, 'r', encoding='utf-8') as file:\n",
    "    latex_content = file.read()\n",
    "    \n",
    "# 使用正则表达式提取 \\jabstract 后的内容\n",
    "pattern = re.compile(r'\\\\etitle\\{(.*?)\\}', re.DOTALL)\n",
    "match = pattern.search(latex_content)\n",
    "\n",
    "if match:\n",
    "    jabstract_content = match.group(1).strip()\n",
    "    print(\"Extracted \\\\jabstract Content:\")\n",
    "    print(jabstract_content)\n",
    "else:\n",
    "    print(\"No \\\\jabstract found in the LaTeX file.\")"
   ]
  },
  {
   "cell_type": "code",
   "execution_count": null,
   "metadata": {},
   "outputs": [],
   "source": [
    "import re\n",
    "\n",
    "class TexProcesser():\n",
    "    '''\n",
    "    Latex Preprocessing \n",
    "    '''\n",
    "    \n",
    "    def __init__(self, latex_path, output_path):\n",
    "        self.tex_dir = latex_path\n",
    "        self.output_path = output_path\n",
    "        \n",
    "    def tex_process(self,):\n",
    "        '''\n",
    "        Latex Preprocessing\n",
    "        '''\n",
    "        pass\n",
    "        \n",
    "    def _strip_equation(self,):\n",
    "        pass\n",
    "    \n",
    "    def _extract_title(self, tex_file=None):\n",
    "        '''\n",
    "        Extract title from latex file\n",
    "        '''\n",
    "        with open(latex_file, 'r', encoding='utf-8') as file:\n",
    "            latex_content = file.read()\n",
    "        self.title = self._match_title(tex_file=latex_content, title_type='title')\n",
    "        self.etitle = self._match_title(tex_file=latex_content, title_type='etitle')\n",
    "        print('end')\n",
    "        \n",
    "    def _match_title(self, tex_file=None, title_type=None,):\n",
    "        '''\n",
    "        re matching for title/etitle\n",
    "        '''\n",
    "        if title_type == 'title':\n",
    "            pattern = re.compile(r'\\\\title\\{(.*?)\\}', re.DOTALL)\n",
    "        elif title_type == 'etitle':\n",
    "            pattern = re.compile(r'\\\\etitle\\{(.*?)\\}', re.DOTALL)\n",
    "        match = pattern.search(tex_file)\n",
    "        \n",
    "        if match:\n",
    "            title = match.group(1).strip()\n",
    "        else:\n",
    "            title = None\n",
    "            \n",
    "        return title\n",
    "    "
   ]
  },
  {
   "cell_type": "code",
   "execution_count": null,
   "metadata": {},
   "outputs": [],
   "source": []
  },
  {
   "cell_type": "code",
   "execution_count": null,
   "metadata": {},
   "outputs": [],
   "source": []
  }
 ],
 "metadata": {
  "kernelspec": {
   "display_name": "summarization",
   "language": "python",
   "name": "python3"
  },
  "language_info": {
   "codemirror_mode": {
    "name": "ipython",
    "version": 3
   },
   "file_extension": ".py",
   "mimetype": "text/x-python",
   "name": "python",
   "nbconvert_exporter": "python",
   "pygments_lexer": "ipython3",
   "version": "3.11.4"
  }
 },
 "nbformat": 4,
 "nbformat_minor": 2
}
