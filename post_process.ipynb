{
 "cells": [
  {
   "cell_type": "code",
   "execution_count": 148,
   "metadata": {},
   "outputs": [
    {
     "name": "stdout",
     "output_type": "stream",
     "text": [
      "京都  大学  で  自然  言語  処理  を  専攻  する . 123 <class 'str'>\n"
     ]
    }
   ],
   "source": [
    "from pyknp import Juman\n",
    "\n",
    "jumanpp = Juman()\n",
    "\n",
    "text = '京都 大学 で 自然 言語 処理 を 専攻 する.123'\n",
    "mlist = jumanpp.analysis(text)\n",
    "output = ' '.join([mrph.midasi.strip() for mrph in mlist.mrph_list()])\n",
    "print(output, type(output))\n",
    "# ['吾輩', 'は', '猫', 'である', '。']"
   ]
  },
  {
   "cell_type": "code",
   "execution_count": 129,
   "metadata": {},
   "outputs": [],
   "source": [
    "import pandas as pd\n",
    "\n",
    "df = pd.read_json('./NLP_JP_CORPUS_INCREMENTAL.json', orient='records', encoding='utf-8')"
   ]
  },
  {
   "cell_type": "code",
   "execution_count": 130,
   "metadata": {},
   "outputs": [],
   "source": [
    "# 把所有的逗号和句号进行统一\n",
    "def replace_comma(text):\n",
    "    text = text.replace(' ', '　') # JUMAN++无法处理半角空格\n",
    "    text = text.replace('@', '') # JUMAN++似乎存在bug，会错误读取@\n",
    "    text = text.replace('#', '') # JUMAN++似乎存在bug，会错误读取#\n",
    "    text = text.replace(',', '，')\n",
    "    text = text.replace('.', '．')\n",
    "    return text\n",
    "\n",
    "df[['abs_intro', 'abs_method', 'abs_result', 'abs_conclusion','sec_intro', 'sec_method', 'sec_result', 'sec_conclusion']] = \\\n",
    "    df[['abs_intro', 'abs_method', 'abs_result', 'abs_conclusion', 'sec_intro', 'sec_method', 'sec_result', 'sec_conclusion']].map(replace_comma)"
   ]
  },
  {
   "cell_type": "code",
   "execution_count": 99,
   "metadata": {},
   "outputs": [
    {
     "name": "stdout",
     "output_type": "stream",
     "text": [
      "本 論文 で は 「 目 を 盗む 」 や 「 かたず を 飲む 」 など の 述語 型 定型 表現 を コーパス から 自動 抽出 する こと を 目的 に ， 従来 の 相互 情報 量 の 条件 を 緩める 方向 で ， 名詞 動詞 間 の 共起 性 を 測る 新たな 基準 を 提案 する ． <class 'str'>\n"
     ]
    }
   ],
   "source": [
    "from pyknp import Juman\n",
    "\n",
    "jumanpp = Juman()\n",
    "\n",
    "mlist = jumanpp.analysis(df['abs_intro'][9])\n",
    "output = ' '.join([mrph.midasi for mrph in mlist.mrph_list()])\n",
    "print(output, type(output))"
   ]
  },
  {
   "cell_type": "code",
   "execution_count": 133,
   "metadata": {},
   "outputs": [],
   "source": [
    "from pyknp import Juman\n",
    "jumanpp = Juman()\n",
    "\n",
    "# preprocess by JUMAN++\n",
    "def preprocess(text):\n",
    "    split = text.split('．') # 按照．进行句子分割\n",
    "    output = []\n",
    "    for num, seq in enumerate(split):\n",
    "        mlist = jumanpp.analysis(seq)\n",
    "        output.append(' '.join([mrph.midasi.strip() for mrph in mlist.mrph_list()]))\n",
    "    return '．'.join(output).strip()\n"
   ]
  },
  {
   "cell_type": "code",
   "execution_count": 134,
   "metadata": {},
   "outputs": [
    {
     "name": "stderr",
     "output_type": "stream",
     "text": [
      "InvalidParameter: byte size of input string (4322) is greater than maximum allowed (4096)\n",
      "backtrace:\n",
      "    resetForInput at /home/is/gamarivan-a/jumanpp-2.0.0-rc3/src/core/analysis/analyzer_impl.cc:21\n",
      "    analyze at /home/is/gamarivan-a/jumanpp-2.0.0-rc3/src/core/analysis/analyzer.cc:46\n",
      "    analyzeWith at /home/is/gamarivan-a/jumanpp-2.0.0-rc3/src/core/input/stream_reader.h:38InvalidParameter: byte size of input string (4240) is greater than maximum allowed (4096)\n",
      "backtrace:\n",
      "    resetForInput at /home/is/gamarivan-a/jumanpp-2.0.0-rc3/src/core/analysis/analyzer_impl.cc:21\n",
      "    analyze at /home/is/gamarivan-a/jumanpp-2.0.0-rc3/src/core/analysis/analyzer.cc:46\n",
      "    analyzeWith at /home/is/gamarivan-a/jumanpp-2.0.0-rc3/src/core/input/stream_reader.h:38InvalidParameter: byte size of input string (6317) is greater than maximum allowed (4096)\n",
      "backtrace:\n",
      "    resetForInput at /home/is/gamarivan-a/jumanpp-2.0.0-rc3/src/core/analysis/analyzer_impl.cc:21\n",
      "    analyze at /home/is/gamarivan-a/jumanpp-2.0.0-rc3/src/core/analysis/analyzer.cc:46\n",
      "    analyzeWith at /home/is/gamarivan-a/jumanpp-2.0.0-rc3/src/core/input/stream_reader.h:38InvalidParameter: byte size of input string (4308) is greater than maximum allowed (4096)\n",
      "backtrace:\n",
      "    resetForInput at /home/is/gamarivan-a/jumanpp-2.0.0-rc3/src/core/analysis/analyzer_impl.cc:21\n",
      "    analyze at /home/is/gamarivan-a/jumanpp-2.0.0-rc3/src/core/analysis/analyzer.cc:46\n",
      "    analyzeWith at /home/is/gamarivan-a/jumanpp-2.0.0-rc3/src/core/input/stream_reader.h:38InvalidParameter: byte size of input string (6570) is greater than maximum allowed (4096)\n",
      "backtrace:\n",
      "    resetForInput at /home/is/gamarivan-a/jumanpp-2.0.0-rc3/src/core/analysis/analyzer_impl.cc:21\n",
      "    analyze at /home/is/gamarivan-a/jumanpp-2.0.0-rc3/src/core/analysis/analyzer.cc:46\n",
      "    analyzeWith at /home/is/gamarivan-a/jumanpp-2.0.0-rc3/src/core/input/stream_reader.h:38InvalidParameter: byte size of input string (5061) is greater than maximum allowed (4096)\n",
      "backtrace:\n",
      "    resetForInput at /home/is/gamarivan-a/jumanpp-2.0.0-rc3/src/core/analysis/analyzer_impl.cc:21\n",
      "    analyze at /home/is/gamarivan-a/jumanpp-2.0.0-rc3/src/core/analysis/analyzer.cc:46\n",
      "    analyzeWith at /home/is/gamarivan-a/jumanpp-2.0.0-rc3/src/core/input/stream_reader.h:38InvalidParameter: byte size of input string (8022) is greater than maximum allowed (4096)\n",
      "backtrace:\n",
      "    resetForInput at /home/is/gamarivan-a/jumanpp-2.0.0-rc3/src/core/analysis/analyzer_impl.cc:21\n",
      "    analyze at /home/is/gamarivan-a/jumanpp-2.0.0-rc3/src/core/analysis/analyzer.cc:46\n",
      "    analyzeWith at /home/is/gamarivan-a/jumanpp-2.0.0-rc3/src/core/input/stream_reader.h:38InvalidParameter: byte size of input string (7469) is greater than maximum allowed (4096)\n",
      "backtrace:\n",
      "    resetForInput at /home/is/gamarivan-a/jumanpp-2.0.0-rc3/src/core/analysis/analyzer_impl.cc:21\n",
      "    analyze at /home/is/gamarivan-a/jumanpp-2.0.0-rc3/src/core/analysis/analyzer.cc:46\n",
      "    analyzeWith at /home/is/gamarivan-a/jumanpp-2.0.0-rc3/src/core/input/stream_reader.h:38InvalidParameter: byte size of input string (15046) is greater than maximum allowed (4096)\n",
      "backtrace:\n",
      "    resetForInput at /home/is/gamarivan-a/jumanpp-2.0.0-rc3/src/core/analysis/analyzer_impl.cc:21\n",
      "    analyze at /home/is/gamarivan-a/jumanpp-2.0.0-rc3/src/core/analysis/analyzer.cc:46\n",
      "    analyzeWith at /home/is/gamarivan-a/jumanpp-2.0.0-rc3/src/core/input/stream_reader.h:38InvalidParameter: byte size of input string (6291) is greater than maximum allowed (4096)\n",
      "backtrace:\n",
      "    resetForInput at /home/is/gamarivan-a/jumanpp-2.0.0-rc3/src/core/analysis/analyzer_impl.cc:21\n",
      "    analyze at /home/is/gamarivan-a/jumanpp-2.0.0-rc3/src/core/analysis/analyzer.cc:46\n",
      "    analyzeWith at /home/is/gamarivan-a/jumanpp-2.0.0-rc3/src/core/input/stream_reader.h:38InvalidParameter: byte size of input string (9145) is greater than maximum allowed (4096)\n",
      "backtrace:\n",
      "    resetForInput at /home/is/gamarivan-a/jumanpp-2.0.0-rc3/src/core/analysis/analyzer_impl.cc:21\n",
      "    analyze at /home/is/gamarivan-a/jumanpp-2.0.0-rc3/src/core/analysis/analyzer.cc:46\n",
      "    analyzeWith at /home/is/gamarivan-a/jumanpp-2.0.0-rc3/src/core/input/stream_reader.h:38InvalidParameter: byte size of input string (9887) is greater than maximum allowed (4096)\n",
      "backtrace:\n",
      "    resetForInput at /home/is/gamarivan-a/jumanpp-2.0.0-rc3/src/core/analysis/analyzer_impl.cc:21\n",
      "    analyze at /home/is/gamarivan-a/jumanpp-2.0.0-rc3/src/core/analysis/analyzer.cc:46\n",
      "    analyzeWith at /home/is/gamarivan-a/jumanpp-2.0.0-rc3/src/core/input/stream_reader.h:38InvalidParameter: byte size of input string (6897) is greater than maximum allowed (4096)\n",
      "backtrace:\n",
      "    resetForInput at /home/is/gamarivan-a/jumanpp-2.0.0-rc3/src/core/analysis/analyzer_impl.cc:21\n",
      "    analyze at /home/is/gamarivan-a/jumanpp-2.0.0-rc3/src/core/analysis/analyzer.cc:46\n",
      "    analyzeWith at /home/is/gamarivan-a/jumanpp-2.0.0-rc3/src/core/input/stream_reader.h:38InvalidParameter: byte size of input string (6970) is greater than maximum allowed (4096)\n",
      "backtrace:\n",
      "    resetForInput at /home/is/gamarivan-a/jumanpp-2.0.0-rc3/src/core/analysis/analyzer_impl.cc:21\n",
      "    analyze at /home/is/gamarivan-a/jumanpp-2.0.0-rc3/src/core/analysis/analyzer.cc:46\n",
      "    analyzeWith at /home/is/gamarivan-a/jumanpp-2.0.0-rc3/src/core/input/stream_reader.h:38InvalidParameter: byte size of input string (4314) is greater than maximum allowed (4096)\n",
      "backtrace:\n",
      "    resetForInput at /home/is/gamarivan-a/jumanpp-2.0.0-rc3/src/core/analysis/analyzer_impl.cc:21\n",
      "    analyze at /home/is/gamarivan-a/jumanpp-2.0.0-rc3/src/core/analysis/analyzer.cc:46\n",
      "    analyzeWith at /home/is/gamarivan-a/jumanpp-2.0.0-rc3/src/core/input/stream_reader.h:38InvalidParameter: byte size of input string (6422) is greater than maximum allowed (4096)\n",
      "backtrace:\n",
      "    resetForInput at /home/is/gamarivan-a/jumanpp-2.0.0-rc3/src/core/analysis/analyzer_impl.cc:21\n",
      "    analyze at /home/is/gamarivan-a/jumanpp-2.0.0-rc3/src/core/analysis/analyzer.cc:46\n",
      "    analyzeWith at /home/is/gamarivan-a/jumanpp-2.0.0-rc3/src/core/input/stream_reader.h:38InvalidParameter: byte size of input string (9480) is greater than maximum allowed (4096)\n",
      "backtrace:\n",
      "    resetForInput at /home/is/gamarivan-a/jumanpp-2.0.0-rc3/src/core/analysis/analyzer_impl.cc:21\n",
      "    analyze at /home/is/gamarivan-a/jumanpp-2.0.0-rc3/src/core/analysis/analyzer.cc:46\n",
      "    analyzeWith at /home/is/gamarivan-a/jumanpp-2.0.0-rc3/src/core/input/stream_reader.h:38InvalidParameter: byte size of input string (14385) is greater than maximum allowed (4096)\n",
      "backtrace:\n",
      "    resetForInput at /home/is/gamarivan-a/jumanpp-2.0.0-rc3/src/core/analysis/analyzer_impl.cc:21\n",
      "    analyze at /home/is/gamarivan-a/jumanpp-2.0.0-rc3/src/core/analysis/analyzer.cc:46\n",
      "    analyzeWith at /home/is/gamarivan-a/jumanpp-2.0.0-rc3/src/core/input/stream_reader.h:38InvalidParameter: byte size of input string (5575) is greater than maximum allowed (4096)\n",
      "backtrace:\n",
      "    resetForInput at /home/is/gamarivan-a/jumanpp-2.0.0-rc3/src/core/analysis/analyzer_impl.cc:21\n",
      "    analyze at /home/is/gamarivan-a/jumanpp-2.0.0-rc3/src/core/analysis/analyzer.cc:46\n",
      "    analyzeWith at /home/is/gamarivan-a/jumanpp-2.0.0-rc3/src/core/input/stream_reader.h:38InvalidParameter: byte size of input string (11920) is greater than maximum allowed (4096)\n",
      "backtrace:\n",
      "    resetForInput at /home/is/gamarivan-a/jumanpp-2.0.0-rc3/src/core/analysis/analyzer_impl.cc:21\n",
      "    analyze at /home/is/gamarivan-a/jumanpp-2.0.0-rc3/src/core/analysis/analyzer.cc:46\n",
      "    analyzeWith at /home/is/gamarivan-a/jumanpp-2.0.0-rc3/src/core/input/stream_reader.h:38InvalidParameter: byte size of input string (7043) is greater than maximum allowed (4096)\n",
      "backtrace:\n",
      "    resetForInput at /home/is/gamarivan-a/jumanpp-2.0.0-rc3/src/core/analysis/analyzer_impl.cc:21\n",
      "    analyze at /home/is/gamarivan-a/jumanpp-2.0.0-rc3/src/core/analysis/analyzer.cc:46\n",
      "    analyzeWith at /home/is/gamarivan-a/jumanpp-2.0.0-rc3/src/core/input/stream_reader.h:38InvalidParameter: byte size of input string (4395) is greater than maximum allowed (4096)\n",
      "backtrace:\n",
      "    resetForInput at /home/is/gamarivan-a/jumanpp-2.0.0-rc3/src/core/analysis/analyzer_impl.cc:21\n",
      "    analyze at /home/is/gamarivan-a/jumanpp-2.0.0-rc3/src/core/analysis/analyzer.cc:46\n",
      "    analyzeWith at /home/is/gamarivan-a/jumanpp-2.0.0-rc3/src/core/input/stream_reader.h:38InvalidParameter: byte size of input string (5202) is greater than maximum allowed (4096)\n",
      "backtrace:\n",
      "    resetForInput at /home/is/gamarivan-a/jumanpp-2.0.0-rc3/src/core/analysis/analyzer_impl.cc:21\n",
      "    analyze at /home/is/gamarivan-a/jumanpp-2.0.0-rc3/src/core/analysis/analyzer.cc:46\n",
      "    analyzeWith at /home/is/gamarivan-a/jumanpp-2.0.0-rc3/src/core/input/stream_reader.h:38InvalidParameter: byte size of input string (8550) is greater than maximum allowed (4096)\n",
      "backtrace:\n",
      "    resetForInput at /home/is/gamarivan-a/jumanpp-2.0.0-rc3/src/core/analysis/analyzer_impl.cc:21\n",
      "    analyze at /home/is/gamarivan-a/jumanpp-2.0.0-rc3/src/core/analysis/analyzer.cc:46\n",
      "    analyzeWith at /home/is/gamarivan-a/jumanpp-2.0.0-rc3/src/core/input/stream_reader.h:38InvalidParameter: byte size of input string (5536) is greater than maximum allowed (4096)\n",
      "backtrace:\n",
      "    resetForInput at /home/is/gamarivan-a/jumanpp-2.0.0-rc3/src/core/analysis/analyzer_impl.cc:21\n",
      "    analyze at /home/is/gamarivan-a/jumanpp-2.0.0-rc3/src/core/analysis/analyzer.cc:46\n",
      "    analyzeWith at /home/is/gamarivan-a/jumanpp-2.0.0-rc3/src/core/input/stream_reader.h:38InvalidParameter: byte size of input string (4247) is greater than maximum allowed (4096)\n",
      "backtrace:\n",
      "    resetForInput at /home/is/gamarivan-a/jumanpp-2.0.0-rc3/src/core/analysis/analyzer_impl.cc:21\n",
      "    analyze at /home/is/gamarivan-a/jumanpp-2.0.0-rc3/src/core/analysis/analyzer.cc:46\n",
      "    analyzeWith at /home/is/gamarivan-a/jumanpp-2.0.0-rc3/src/core/input/stream_reader.h:38InvalidParameter: byte size of input string (4186) is greater than maximum allowed (4096)\n",
      "backtrace:\n",
      "    resetForInput at /home/is/gamarivan-a/jumanpp-2.0.0-rc3/src/core/analysis/analyzer_impl.cc:21\n",
      "    analyze at /home/is/gamarivan-a/jumanpp-2.0.0-rc3/src/core/analysis/analyzer.cc:46\n",
      "    analyzeWith at /home/is/gamarivan-a/jumanpp-2.0.0-rc3/src/core/input/stream_reader.h:38InvalidParameter: byte size of input string (5280) is greater than maximum allowed (4096)\n",
      "backtrace:\n",
      "    resetForInput at /home/is/gamarivan-a/jumanpp-2.0.0-rc3/src/core/analysis/analyzer_impl.cc:21\n",
      "    analyze at /home/is/gamarivan-a/jumanpp-2.0.0-rc3/src/core/analysis/analyzer.cc:46\n",
      "    analyzeWith at /home/is/gamarivan-a/jumanpp-2.0.0-rc3/src/core/input/stream_reader.h:38"
     ]
    }
   ],
   "source": [
    "df[['abs_intro', 'abs_method', 'abs_result', 'abs_conclusion','sec_intro', 'sec_method', 'sec_result', 'sec_conclusion']] = \\\n",
    "    df[['abs_intro', 'abs_method', 'abs_result', 'abs_conclusion', 'sec_intro', 'sec_method', 'sec_result', 'sec_conclusion']].map(preprocess)"
   ]
  },
  {
   "cell_type": "code",
   "execution_count": 137,
   "metadata": {},
   "outputs": [
    {
     "data": {
      "text/plain": [
       "'はじめ に 自然 文 検索 や 翻訳 ， レコメンデーション など に 使用 可能な 解析 システム を 実現 した ．2000 年 に ( 南  1974 ; 白井 1995 ) を 参考 に して 文節 に 強 さ を 決めて ， 同じ 強 さ の 文節 で は ， 連 用 修飾 格 は 直後 の 用言 に ， 連 体 修飾 格 は 直後 の 体言 に 係る と いう 規則 を 用いて 構文 解析 プログラム を 開発 した ．しかし 実際 の 構文 構造 は ， 文節 を 飛び越して 係る 場合 が 見受け られた ．文法 的な 情報 だけ で は 不十分だ と 考え ， 意味 的な 情報 の 導入 を 検討 した 結果 ， シソーラス を 組み 込んで 用語 同士 の 意味 的な 距離 を 測って ， その 距離 に よって 係り 先 を 決定 する 手法 を 開発 した ．この 解析 システム を 自然 文 検索 に 用いる 場合 ， 同じ 内容 の こと を 言って いる の に いく つ も の 書き 方 が 許さ れて いる こと から しばしば 検索 漏れ が 発生 する ．この 異形 式 同 内容 に 対応 する ため ， 用語 の 標準 化 ， 係り 受け の 正規 化 を 実現 した ．さらに ， 翻訳 など で 使用 する こと を 考えて ， 文節 意図 （ 4 ．1 で 述べる ） を 把握 し やすく する ため に 係り 受け と それ に 続く 付属 語 の 並び を まとめた 形 で 管理 した ．手 作業 で 収集 した 辞書 に 手 作業 で いろいろな 情報 を 付加 して 機能 を 実現 する と いう 方式 で 開発 した ．統計 的な 手法 は 用いて い ない ．文末 に 試用 サイト の URL を 示した ので 試用 して いただき たい ．'"
      ]
     },
     "execution_count": 137,
     "metadata": {},
     "output_type": "execute_result"
    }
   ],
   "source": [
    "df['sec_intro'][291] "
   ]
  },
  {
   "cell_type": "code",
   "execution_count": 138,
   "metadata": {},
   "outputs": [],
   "source": [
    "df['sections'] = df[['sec_intro', 'sec_method', 'sec_result', 'sec_conclusion']].values.tolist()\n",
    "df['abs_incremental'] = df[['abs_intro', 'abs_method', 'abs_result', 'abs_conclusion']].values.tolist()"
   ]
  },
  {
   "cell_type": "code",
   "execution_count": null,
   "metadata": {},
   "outputs": [],
   "source": [
    "df['sections'] = df['sections'].apply(lambda x: x[:2] + [''.join(x[2:])])\n",
    "df['abs_incremental'] = df['abs_incremental'].apply(lambda x: x[:2] + [''.join(x[2:])])"
   ]
  },
  {
   "cell_type": "code",
   "execution_count": 143,
   "metadata": {},
   "outputs": [
    {
     "data": {
      "text/plain": [
       "['はじめ に 自然 文 検索 や 翻訳 ， レコメンデーション など に 使用 可能な 解析 システム を 実現 した ．2000 年 に ( 南  1974 ; 白井 1995 ) を 参考 に して 文節 に 強 さ を 決めて ， 同じ 強 さ の 文節 で は ， 連 用 修飾 格 は 直後 の 用言 に ， 連 体 修飾 格 は 直後 の 体言 に 係る と いう 規則 を 用いて 構文 解析 プログラム を 開発 した ．しかし 実際 の 構文 構造 は ， 文節 を 飛び越して 係る 場合 が 見受け られた ．文法 的な 情報 だけ で は 不十分だ と 考え ， 意味 的な 情報 の 導入 を 検討 した 結果 ， シソーラス を 組み 込んで 用語 同士 の 意味 的な 距離 を 測って ， その 距離 に よって 係り 先 を 決定 する 手法 を 開発 した ．この 解析 システム を 自然 文 検索 に 用いる 場合 ， 同じ 内容 の こと を 言って いる の に いく つ も の 書き 方 が 許さ れて いる こと から しばしば 検索 漏れ が 発生 する ．この 異形 式 同 内容 に 対応 する ため ， 用語 の 標準 化 ， 係り 受け の 正規 化 を 実現 した ．さらに ， 翻訳 など で 使用 する こと を 考えて ， 文節 意図 （ 4 ．1 で 述べる ） を 把握 し やすく する ため に 係り 受け と それ に 続く 付属 語 の 並び を まとめた 形 で 管理 した ．手 作業 で 収集 した 辞書 に 手 作業 で いろいろな 情報 を 付加 して 機能 を 実現 する と いう 方式 で 開発 した ．統計 的な 手法 は 用いて い ない ．文末 に 試用 サイト の URL を 示した ので 試用 して いただき たい ．',\n",
       " '構文 構造 の 決定 ( 白井 1995 ) で は 等しい 階層 的 認識 構造 の あいだ で は ， 構文 構造 を 文節 の 連 体 修飾 格 は 体言 に ， 連 用 修飾 格 は 用言 に それぞれ 最初の 文節 に 係る と いう アルゴリズム で 決定 して いた ．しかし 複数 の 受け の 候補 が ある とき に ， 文法 情報 だけ で は 正しく 決定 さ れ ない と いう 問題 が ある ．( 藤尾 2000 ) で は 統計 的な 手法 で 決定 して いる が ， 様々な 分野 に 対して 大量の 解析 済み の データ を 準備 する の は 容易で は ない ．そこ で 筆者 ら は シソーラス （ 5 ．1 で 述べる ） を 用いて 用語 同士 の 意味 的な 距離 を 計算 して ， その 距離 の 近い ところ に 係る と いう 方式 を 採用 した ．意味 的な 距離 に よって 構文 構造 を 決定 する 複数 の 受け の 候補 が ある とき に ， 図 1 の ように 意味 的な 近 さ （ 2 ．2 で 述べる ） で 直後 の 文節 を 飛び越して 係る こと が ある ．「 ネット で 」 と いう 連 用 修飾 格 は ， 「 行く 」 か 「 調べる 」 と いう 用言 に 係る 可能 性 が ある ．これ まで は ， 直後 に ある と いう こと で 「 行く 」 と いう 文節 に 係る ように なって いた ．意味 的な 距離 を 測って 比較 する と 次 の ように なる ．「 ネット で 」 - - - 「 調べる 」 の 方 が 意味 的な 距離 が 近い ので ， 「 ネット で 」 と いう 文節 は 「 調べる 」 と いう 文節 に 係る ように した ．* * 連体 修飾 格 で の 例 * * 同様に 連 体 修飾 格 でも 意味 的な 距離 で 係り 先 を 決める ．図 2 で は ， 「 おいしい 」 と いう 形容詞 が 文法 情報 だけ で 評価 する と 「 長野 の 」 か ， 「 リンゴ を 」 か どちら か の 名詞 の 文節 に 係る 可能 性 が ある ．同様に 用語 同士 の 意味 的な 距離 を 測って 「 リンゴ を 」 と いう 文節 に 係 ける ．* * 並列 構造 で の 例 * * ( 黒崎 1992 ) で は ， 並列 構造 を 付属 語 の 類似 性 で 決めて いる ．筆者 ら の システム で は シソーラス を 用いて 名詞 の 意味 的な 距離 で 決めて いる ．「 ビール 」 と 「 お 酒 」 と は 意味 的な 距離 が 近い ので 並列 構造 に なる が ， 「 先生 」 と 「 お 酒 」 は 並列 構造 に は なら ない ．用語 同士 の 意味 的な 距離 の 定義 係り 受け 解析 で 係り 先 を 決める ため に 2 つ の 用語 間 の 意味 的な 距離 を 定義 した ．本来 ， 用語 同士 の 意味 的な 距離 は アナログ 的な もの である ．極端な 場合 は 人 に よって も 異なる が ， シソーラス 上 の 用語 同士 の 関係 から 表 1 の よう に 定義 した ．係り 受け 語 は 慣用 的に よく 係り 受け を 構成 する 用語 の 組み合わせ を ネット など から 手 作業 で 収集 した ．間 に 挟まる 助詞 と 良し あし の 情報 も 持って いる ．また 係り 受け 語 に は ， 係 の 用語 に 意味 が 指定 できる （ 5 ．2 に 示す ） ．* * 例 * *  （ 人 ） が  飲む    （ 人 ） は 人 の 意味 で 人 の 意味 の 用語 すべて を 指定 できる ．筆者 ら の シソーラス で は 直近 の 関係 語 と の 関係 しか 持って い ない ．関係 語 と さらに その 関係 語 と の 意味 的な 距離 は それぞれ の 意味 的な 距離 を 加算 する こと に した ．狭義 語 の さらに 狭義 語 と の 意味 的な 距離 は xmath 0 で xmath 1 である と 定義 した ．こう する こと で ， シソーラス に お互い の 関係 が 登録 さ れて い ない 用語 間 の 意味 的な 距離 を 定義 した ．経験 的に あまり 遠い 関係 の 用語 同士 の 距離 は 評価 して も 意味 が ない ので 一定 の 距離 で 足 切り を して いる ．足 切り の 値 は 係り 先 を 決める とき と ， 並列 構造 を 決める とき と で は 異なる ．並列 構造 を 決める とき の ほう が ， 広く 関係 を 評価 して いる ．並列 構造 を 決める とき に は ， 係り 受け 語 は 考慮 し ない ．* * 意味 的な 距離 を 測る とき に 多義語 を 区別 して いる * * 意図 した の と 異なる 意味 の 用語 と の 距離 を 測って しまう こと が 問題 に なる こと が ある ．例えば 「 お 稲荷 さん 」 に は 2 つ の 意味 が ある ．多義語 を それぞれ の 意味 で 区別 し ないで 計算 する と ， 「 稲荷 神社 」 と 「 いなり ずし 」 と が 0 （ 同義語 ） に なって しまう ．この こと を 防ぐ ため に ， 我々 の システム で は 「 お 稲荷 さん 」 の 2 つ の 意味 を 区別 して 別の 用語 と して 管理 して いる ．その 結果 「 稲荷 神社 」 と 「 いなり ずし 」 と の 意味 的な 距離 は 未定 義 （ 無限大 ） に なる ので 「 いなり ずし に 参拝 する 」 など と いう 無意味な 係り 受け は 排除 さ れる ．係り 受け データ の 整理 日本 語 で は 同じ こと を 言う のに いく つ か の 書き 方 が 許さ れて いる ．自然 文 検索 など で 漏れ を 少なく する ため に 形 を 整理 する ．用語 の 標準 化 日本 語 は 表記 の 揺れ を 含めて 同義語 が 多い ．( 国分 ，  岡野 2010 ) 著者 と 検索 者 と で 異なる 表記 が 使わ れる こと が 検索 漏れ の 一因 に なって いる ．検索 対象 データベース ， 検索 文 ともに 係り 受け に した あと シソーラス を 用いて なか の 用語 を 言語 工学 研究 所 が 推奨 する 用語 に 標準 化 する ．誤った 表記 ， 差別 語 も 標準 の 表記 に 置き換える ．* * 例 1 * * * * 例 2 * *  係り 受け を 正規 化 用言 の 使い 方 に は 限定 用法 と 叙述 用法 が ある ．自然 文 検索 で 「 青い リンゴ 」 （ 限定 用法 ） と 書いて ある 記事 を 「 リンゴ が 青い 」 （ 叙述 用法 ） と いう 係り 受け で 検索 して も 検索 でき ない ．検索 できる ように する ため に ， 原 記事 ， 検索 文 ともに 係り 受け は 限定 用法 の もの を すべて 叙述 用 法 に 統一 して ， 正規 化 する ．用言 が 動詞 の 場合 は ， 動詞 の 性質 に よって 名詞 と の 間 に 挟む 助詞 が 異なる ．当面 ， 間 に 挟む 助詞 も ， 表 2 の 4 種類 に 限定 して いる ．情報 の 付与 今後 ， 本 解析 システム を 様々な 目的 へ 適用 を 進める 予定 である ．そこ で ， 辞書 上 の 情報 を もと に 用途 に 応じて 解析 結果 に 必要な 情報 を 付与 する ．文節 意図 を 付与 する 解析 の 精度 を 上げる ため と ， 翻訳 など で 必要な 情報 を 取り出し やすく する ため に ， 「 係り 受け の 語幹 まで 」 と ， それ に 続く 「 付属 語 の 並び 」 を まとめて 管理 して いる ．さらに ， 付属 語 の 並び の 持つ 表 3 の ような 性質 を 「 文節 意図 」 と 呼ぶ こと と する ．これ は 一般に 命題 に 含ま れる 否定 ・ 肯定 ， ボイス ， テンス など を ， モダリティー と 一緒に した もの である （ 益岡 2000 ） ．乾 健太郎 「 KURA 」 佐藤 理史 「 醍醐 プロジェクト 」 は ， ここ で いう 係り 受け の 部分 を より 分かり やすく する ため の 置き換え を 説明 した もの である ので ， 本 システム と は 目的 が 異なる ．* * 文 の 文節 意図 の 把握 * * 翻訳 以外 でも ， 例えば 内容 が 「 依頼 」 の 記事 を 集めよう と した とき ， 記事 を 解析 して 係り 受け に まで して も ， 結局 人手 で 読み 直して 分類 する 必要 が あった ．文末 の 文節 意図 が 「 依頼 」 の 文 を 含む 記事 を 集める と ， その 目的 が 達成 さ れる ．ほとんど の 場合 ， 文末 の 文節 意図 が 文 全体 の 文節 意図 を 表して いる ．* * 文節 意図 と 主語 の 推定 * * 省略 さ れた 主語 は 文脈 を 調べ ない と 分から ない 場合 も ある が ， 文節 意図 を 調べる と 推測 できる 場合 が ある ．翻訳 など の ため に 省略 さ れた 主語 の 人称 を 推定 する （ 4 ．3 で 述べる ） ．同じ 文節 意図 でも 丁寧 さ の 違い など で いろいろな 書き 方 が ある ．表 4 に 「 依頼 」 の 文節 意図 の 例 を 上げた が ， ここ に 上げた の は その 一部 で この ほか に も いく つ も の 書き 方 が ある ．ひと つ の 文節 が 複数 の 文節 意図 を 持つ こと が ある ．たとえば 下記 の 文節 は ， 「 禁止 」 ， 「 否定 」 ， 「 疑問 」 ， 「 推量 」 ， 「 丁寧 」 の 5 つ の 文節 意図 を 持って いる ．付属 語 の 組み合わせ に よって ， 文節 意図 は 変化 する このような 複雑な 文節 意図 を 持つ 文節 を 扱う ため と ， 解析 の 速度 を 速く する ため に ， 辞書 上 で は 数 の 付属 語 を 「 付属 語 の 並び 」 と して まとめた 形 で 管理 して いる ．筆者 ら の システム で は 解析 辞書 （ 5 ．2 で 述べる ） に 1，300，000 行 の 「 付属 語 の 並び 」 を 持って いる ．良し あし ， 注目 度 を 付与 する レコメンデーション で は ， 良し あし の 情報 を 手がかり の ひと つ に する ．単独 で 良し あし の 決め られる 辞書 上 の 用語 に は ， 良し あし の フラグ を 付けて ある ．しかし ， 用語 単独 で は 良し あし が 決め られ ず ， 係り 受け 関係 を 調べ ない と 決め られ ない こと が ある ．「 寿命 」 ， 「 延びる 」 ， 「 短い 」 など 用語 は 単独 で は 良し あし の 性質 は 持って い ない が ， 組み合わさ れた とき に 良し あし の 性質 が 出て くる ．筆者 ら の シソーラス で は ， 「 係り 用語 」 と ， 「 受け の 用語 」 と ， 「 間 に はさま れた 格 助詞 」 と ， 「 良し あし 」 の 組 で 管理 して いる ．シソーラス の 係り 受け 語 を 調べて 係り 受け の 良し あし を 決める ．係り ， 受け の それぞれ の 用語 の 同義語 ， 狭義 語 を シソーラス で 拡張 して ， 係り 受け 語 と して 登録 さ れて い ない 係り 受け に も 対応 できる ように した ．* * 否定 の 文節 * * 良し あし は 否定 が ある と 逆転 する ．日本 語 で は 「 ない 」 と 書いて あって も 否定 だ と は 決め られ ない （ 表 5 参照 ） ．否定 に なる か どう かも 付属 語 の 並び に 記述 して ある （ 5 ．2 で 述べる ） ．* * 注目 度 を 付与 して 良し あし を 辞書 に 登録 する こと が できる * * 「 良し あし 」 の 判断 基準 は 普遍 的な もの で は ない ．ユーザー に よって 異なる こと が ある ．また 自社 や 競合 他 社 の 商品 名 の ように その 評判 を いつも 注目 して おき たい 用語 も ある ．筆者 ら の システム は ユーザー に より 適切な レコメンデーション を する ため に ， このような 用語 または 係り 受け に 注目 度 ， 良し あし を つけて 登録 する 仕組み が 用意 して ある （ 表 6 参照 ） ．主語 の 人称 の 推定 日本 語 は しばしば 主語 が 省略 さ れる が ， そのまま 翻訳 する と 訳文 が あいまいに なる こと が 少なく ない ．また ビジネス 文書 でも 主語 を 解析 して 認識 する こと は 重要である ．実際 の 文章 で は ， 待遇 表現 や 文節 意図 で 暗に 主語 の 人称 を 示して いる ．本 論文 で は この 点 に 注目 して ， 文節 意図 の 情報 を 利用 する こと に より 主語 を 推定 する 方法 を 説明 する ．* * 待遇 表現 に よって 主語 の 人称 を 推定 する * * ビジネス 文書 で は ， 待遇 表現 は 適切に 使用 さ れて いる ので 有効な 推定 法 である ．解析 辞書 に は 文節 が どの 待遇 表現 に なる か が 記述 して ある ．謙譲語 が 使わ れて いる 動詞 の 主語 は 1 人称 である ．* * 例 * *  申し上げた の は  →  （ 1 人称 が ） 申し上げた の は 尊敬 語 が 使わ れて いる 動詞 の 主語 は 2 人称 ないしは 3 人称 である ．* * 例 * *  おっしゃった の は  →  （ 2 人称 が ） おっしゃった の は * * 文節 意図 に よって 主語 の 人称 を 推定 する * * 待遇 表現 でも 主語 が 推定 でき なかった とき に 文節 意図 に よって 主語 の 人称 を 推定 する （ 表 3 参照 ） ．例えば ， 文節 意図 が 「 意志 」 の とき は ， 主語 は 1 人称 である ．* * 例 * *  飲み たい 「 意志 」   →  （ 1 人称 が ） 飲み たい 文節 意図 が 「 依頼 」 「 指示 」 の とき は ， 受け の 主語 は 2 人称 である ．* * 例 * *  送って くれ 「 依頼 」  →  （ 2 人称 が ） 送って くれ  辞書 ブログ や メール に 代表 さ れる ような 文書 を 扱う ため に ， 時事 的な 用語 や 省略 語 も 積極 的に 登録 して いる ．送り仮名 や 訳語 など の 差異 に よる 異 表記 語 も 網羅 的に 収集 した ．よく 使わ れる 用語 であれば 誤った 用語 （ 例  「 キューピット 」 cupid ） も 積極 的に 採択 して ある ．反面 ， 古語 や 文学 作品 に しか 出て こ ない 用語 は 採択 して い ない ．すべて の 辞書 は 共通の 品詞 に 分類 して ある ．用言 は 語幹 と 活用 形 で 管理 して いる ．シソーラス 自然 言語 処理 を 目的 と した 一般 語 を 主 と する シソーラス である ．いわゆる 名詞 だけ で なく ， 動詞 ， 形容詞 ， 形容動詞 ， 副詞 ， 代名詞 ， 擬態 語 さらに 慣用句 まで を 登録 して いる ．「 広義 語 - - - 狭義 語 」 の 関係 は ， 自然 言語 処理 で 広義 語 に 適用 した 規則 が 狭義 語 に も 適用 できる ように 同じ 属性 の もの だけ と した ．「 自動車 」 - - - 「 タイヤ 」 の ような 全体 - - - 部分 関係 は 関連 語 と した ．品詞 の 異なる 用語 ， 「 自動詞 」 - - - 「 他 動詞 」 の 対応 など も 関連 語 と した ．用語 間 の 意味 関係 と して ， 表 7 の もの を 用意 した ．詳細 は ( 国分 ， 岡野 2010 ) を 参照 さ れ たい ．* * シソーラス の その他 の 項目 * * エラー フラグ    誤った 表記 ， 差別 語 品詞        動詞 の 活用 形 を 含めて 24 種類 注目 度       レコメンデーション の ため に ユーザー が マーク した 用語 ．異なり 語 の 数    440，000 語 ( 竹内 2008 ) は 動詞 の 性質 を 分類 する ため に 動詞 の それぞれ の 性質 で 係り 受け する 名詞 の 一例 を 示した もの である ．一方 筆者 ら の この シソーラス で は ， 受け に なる 個々 の 用言 を 中心 に ， その 用言 の 係り と なり 得る 名詞 を なるべく 網羅 的に 収集 した ．解析 辞書 ここ で 実現 して いる アルゴリズム は ， 辞書 の 情報 で 制御 する 方式 を とって いる ．その ため に 必要に なる 情報 が 各 用語 に 付与 して ある ．* * 自立 語 * * 自立 語 の 構成 要素 である 接頭辞 ， 接尾辞 ， 助数詞 など も 含む ．語 数      240，000 語 品詞      動詞 の 活用 形 も 含めて 24 種類 良し あし    自立 語 の 良し あし が 記入 して ある 否定 フラグ * * 名詞 の 意味 * *     係り 受け 関係 を 調べる ため に 次の 10 種類 ある ．1 つ の 用語 が 複数 の 意味 を 重複 して 持てる ．* * 意味          例 * *  人           先生 ， 山田 ， 雅子  機関          学校 ， 研究 所  物           机 ， 物理 現象 も 含む  時           昨年  場所          東京 ， 駅前  数 量詞         5 本 ， 少し  抽象 名詞        芸術 ， 甘 さ  動作 名詞        サ 変動 詞  数詞          9 ， 二百  不定          代名詞 ， 未知 語 など で 意味 が 決定 でき ない もの ．* * 用言 * *  かっこ 内 は 活用 語尾 である ．* * 品詞 ・ 活用 形      例 * *  サ 変名 詞 形       勉強 （ する ）  サ 変 非 名詞 形      察 （ する ）  ザ 変          信 （ ずる ）  一 段          生き （ る ）  カ 行 五 段        書 （ く ）  カ 行 五 段 例外      行 （ く ）  ガ 行 五 段        泳 （ ぐ ）  サ 行 五 段        押 （ す ）  タ 行 五 段        立 （ つ ）  ナ 行 五 段        死 （ ぬ ）  バ 行 五 段        遊 （ ぶ ）  マ 行 五 段        飲 （ む ）  ラ 行 五 段        走 （ る ）  ラ 行 五 段 例外      おっしゃ （ る ）  ワア 行 5 段       買 （ う ）  ワ 行 五 段 例外      問 （ う ）  形容詞         青 （ い ）  形容 動詞        閑静 （ な ）  形容 動詞 と ／ たる 形   矍鑠 （ たる ）  副 詞          さっぱり  連体詞         こんな  打ち消し の 動詞     年 端 も いか （ ない ： 助動詞 ）  打ち消し の 形容詞    必要 （ ない ： 形容詞 ） * * 動詞 の 性質 * *  自 ・ 他動詞   限定 用法 から 叙述 用法 に 変換 する とき に 挟む 助詞 を 決定 する ため ．移動 性 の 動詞  自動詞 である が 「 を 格 」 を とる ．例  道 を 行く  待遇 表現    尊敬 語 ・ 謙譲語  翻訳 など で 主語 を 決定 する ため ．例  おっしゃる   （ 尊敬 語 ）           申し上げる   （ 謙譲語 ） * * 付属 語 の 並び * * 文節 意図 を 付与 する ため に 助詞 ， 助動詞 だけ で なく ， いわゆる 機能 表現 と その 組み合わせ を まとめた 形 で 扱って いる ．* * 付属 語 * *  助詞  助動詞 と その 活用 語尾  形式 名詞  機能 表現 の ため の 動詞 および その 活用 語尾   例えば 推量 を 表す 「 〜 かも 知れ ない 」 と いう とき の 「 知れる 」 と いう 動詞 ．機能 表現 の ため の 形容詞 および その 活用 語尾  行 数      1，300，000 行  エラー フラグ  間違った 表記  文節 意図    表 3 参照  並列 フラグ   並列 を 構成 し うる か どう か  待遇 表現    尊敬 語 ・ 謙譲語  否定 フラグ など',\n",
       " '結果 CGM （ 消費 者 生成 メディア ） の 例 と して Yahoo ! 知恵 袋 データ の 2004 年 4 月 分 の 質問 記事 （ 5，957 記事 ， 15，883 文 ） を 用いて ， 評価 した ．まず ， 筆者 ら の システム と Cabocha と の 解析 精度 を 比較 した ．会話 体 の 文章 な ので 両者 と も あまり 良い 結果 は で なかった が 正解 率 は Cabocha を 13 ．8 ポイント 上回って いる ．両 システム の 処理 時間 も 比較 して みた ．筆者 ら の システム は シソーラス を 参照 して いる ので ， 処理 が 遅く なる 恐れ が あった が ， 両者 は ほとんど 差 が なかった ．これ は ， 筆者 ら の システム で は 付属 語 を まとめた 形 で 扱う こと に よって ， 辞書 へ の アクセス 回数 を 減らした ため と 考え られる ．次に ， 筆者 ら の システム で シソーラス を 組み 込んで 解析 した 結果 と ， 組み 込ま ないで 解析 した 結果 と の 差 を 調べた ．係り 受け 構造 の 違い と ， 並列 構造 の 違い と に 分けて 集計 した ．しかし ， シソーラス を 組み 込んだ 結果 ， シソーラス を 組み 込ま ない とき に は 正しく 解析 できた 結果 を ， かえって 間違った 構造 に して しまった 場合 も あった ．差分 の 生じた 172 文 の 内訳 は 改善 160 文 ， 悪化 12 文 ， 差引 148 文 全体 15，883 文 に 対して 0 ．9 % の 向上 が 観測 さ れた ．* * 成功 例 * * 「 音楽 が いつまで たって も 始まり ませ ん ．」 「 音楽 ／ が ／ 始ま ／ 」 と いう 係り 受け が 登録 さ れて いる ので ， 「 音楽 が 」 と いう 文節 が 「 たって も 」 と いう 文節 で は なく ， 「 始まり ませ ん 」 と いう 文節 に 係った ．* * 間違った 構造 に して しまった 例 * * 「 警察 の 方 に 話 が いって いる か わかり ませ ん 」 「 話 ／ が ／ 分かる ／ 」 と いう 係り 受け が 登録 さ れて いた ため ， 「 話 が 」 と いう 文節 が 「 いって いる の か 」 と いう 文節 で は なく ， 「 わかり ませ ん 」 と いう 文節 に 係って しまった ．下記 の サイト から 使って 見 られる ように して ある ので ， 試用 して 評価 して いただく こと を 希望 する ．urlおわり に CGM の ような 会話 体 の 文章 を 扱う ため に は ， より 一層 の 誤り を 含んだ データ に 対応 できる こと が 要求 さ れる ．辞書 は 手 作業 で 収集 した もの で ， 漏れ も 多い と 思う ．係り 受け が シソーラス に 登録 さ れて い ない ため に ， 今回 の 評価 の 対象 に なら なかった 記事 も ある と 思わ れる ．今後 大 規模 コーパス を 解析 して ， 係り 受け を 抽出 して シソーラス の 係り 受け 語 を 充実 さ せて いく 計画 である ．高速 化 に ついて も 現在 改造 中 で 近日 中 に 発表 する 予定 である ．全 世界 に 言語 の 数 は 多い ．現在 まで に 日本 語 から 外国 語 へ の 翻訳 プログラム が 未 着手 の 言語 を 対象 に ， 翻訳 プログラム が 作れ ない か と 思って いる ．今後 ， 外部 の 人 を 含めて 実用 化 を 進め たい と 思って いる ．自然 文 検索 や 翻訳 だけ で なく ， いろいろな 応用 が 考え られる ．係り 受け だけ で 「 良し あし 」 を 決定 して いる が ， 3 つ 以上 の 文節 が 組み合わさって 「 良し あし 」 が 決定 さ れる 場合 が ある ．これ から 充実 さ せて いく 必要 が ある ．']"
      ]
     },
     "execution_count": 143,
     "metadata": {},
     "output_type": "execute_result"
    }
   ],
   "source": [
    "df['sections'][291]"
   ]
  },
  {
   "cell_type": "code",
   "execution_count": 142,
   "metadata": {},
   "outputs": [
    {
     "data": {
      "text/plain": [
       "['日本 語 文章 要約 システム に ついて 報告 する ．一般に ，  質 の 良い 文章 要約 を 行う ため に は ，  ある 一 つ の 言語 現象 だけ を とらえた 談話 解析 だけ で は 不十分である ．なぜなら ，  談話 に 関わる 言語 現象 は 相互 に 関連 して いる から である ．',\n",
       " '本 研究 で は この 観点 から ，  日本 語 で の 様々な 表層 的 特徴 を できる だけ 多く 利用 して ，  日本 語 文章 の 要約 を 試みる ．',\n",
       " '本稿 で は 実際 に 計算 機上 で 試作 した 論 説文 要約 システム に 関して ，  これ で 用い られて いる 論 説文 要約 の 手法 の 紹介 と ，  これ に よって 出力 さ れた 文章 の 評価 を 行う ．']"
      ]
     },
     "execution_count": 142,
     "metadata": {},
     "output_type": "execute_result"
    }
   ],
   "source": [
    "\n",
    "df['abs_incremental'][4]"
   ]
  },
  {
   "cell_type": "code",
   "execution_count": 149,
   "metadata": {},
   "outputs": [],
   "source": [
    "def incremental_join(lst):\n",
    "    result = []\n",
    "    incremental_str = ''\n",
    "    for item in lst:\n",
    "        incremental_str = ''.join([incremental_str, item]).strip()\n",
    "        result.append(incremental_str)\n",
    "    return result\n",
    "\n",
    "df['abs_incremental'] = df['abs_incremental'].apply(incremental_join)"
   ]
  },
  {
   "cell_type": "code",
   "execution_count": 151,
   "metadata": {},
   "outputs": [
    {
     "data": {
      "text/plain": [
       "['本稿 で は ， 比喩 の 理解 過程 に おける 再 解釈 の 段階 に ついて 考察 した ．',\n",
       " '本稿 で は ， 比喩 の 理解 過程 に おける 再 解釈 の 段階 に ついて 考察 した ．名詞 の 意味 を 確率 を 利用 して 表現 した ．比喩 表現 の 意味 は ， 喩詞 の 意味 に 影響 さ れた 被 喩詞 の 意味 である ．被 喩詞 の 意味 と 比喩 表現 の 意味 と の 違い を 示す 指標 と して ， 明瞭 性 と 新奇 性 と を 情報 量 を 用いて 定義 した ．明瞭 性 が 大きい 値 と なる とき は ， 比喩 表現 に おいて 属性 に 関する 不確定 さ が 減少 した とき である ．新奇 性 が 大きい 値 と なる とき は ， 比喩 表現 が 稀な 事象 を 表わす とき である ．SD 法 に より 比喩 表現 の 意味 を 測定 し ， 明瞭 性 と 新奇 性 と を 求めた ．',\n",
       " '本稿 で は ， 比喩 の 理解 過程 に おける 再 解釈 の 段階 に ついて 考察 した ．名詞 の 意味 を 確率 を 利用 して 表現 した ．比喩 表現 の 意味 は ， 喩詞 の 意味 に 影響 さ れた 被 喩詞 の 意味 である ．被 喩詞 の 意味 と 比喩 表現 の 意味 と の 違い を 示す 指標 と して ， 明瞭 性 と 新奇 性 と を 情報 量 を 用いて 定義 した ．明瞭 性 が 大きい 値 と なる とき は ， 比喩 表現 に おいて 属性 に 関する 不確定 さ が 減少 した とき である ．新奇 性 が 大きい 値 と なる とき は ， 比喩 表現 が 稀な 事象 を 表わす とき である ．SD 法 に より 比喩 表現 の 意味 を 測定 し ， 明瞭 性 と 新奇 性 と を 求めた ．明瞭 性 が 属性 の 顕著 性 の パターン に 対応 する 数値 である こと と ， 明瞭 性 と 新奇 性 と が 比喩 の 理解 容易 性 の 指標 と して 適当である こと と を 示した ．']"
      ]
     },
     "execution_count": 151,
     "metadata": {},
     "output_type": "execute_result"
    }
   ],
   "source": [
    "df['abs_incremental'][20]"
   ]
  },
  {
   "cell_type": "code",
   "execution_count": 153,
   "metadata": {},
   "outputs": [],
   "source": [
    "json_data = df.to_json(orient='records', force_ascii=False)\n",
    "\n",
    "\n",
    "# 将 JSON 数据保存到文件\n",
    "with open('./NLP_JP_CORPUS_INCREMENTAL_JUMAN.json', 'w', encoding='utf-8') as file:\n",
    "    file.write(json_data)"
   ]
  },
  {
   "cell_type": "code",
   "execution_count": 154,
   "metadata": {},
   "outputs": [],
   "source": [
    "jum = pd.read_json('./NLP_JP_CORPUS_INCREMENTAL_JUMAN.json', orient='records', encoding='utf-8')"
   ]
  },
  {
   "cell_type": "code",
   "execution_count": 162,
   "metadata": {},
   "outputs": [
    {
     "data": {
      "text/plain": [
       "['はじめ に 従来 の 構文 解析 法 は 基本 的に 句 構造 文法 あるいは 格 文法 を その 拠り所 と して きた ．前者 の 考え 方 は 局所 的 統合 の 繰り返し に よって 文 の 構造 を 認識 しよう と いう もの である ．しかし ， 実際 に そのような 方法 で 文 を 解析 しよう と する と ， 規則 の 数 が 非常に 多く なり ， なおかつ 十分な 精度 の 解析 結果 を 得る こと が 困難であった ．また ， 格 文法 の 場合 は 格 要素 を 決定 する ため の 意味 素 が 必ずしも うまく 設定 でき ず ， また この 場合 も 基本 的に は 局所 的な 解析 である ため ， 十分な 精度 の 解析 結果 が 得 られて い ない ．これ ら の 問題 を 解決 する ため に は ， これ ら の 文法 的 枠組 に 加えて ， 局所 的 記述 で は とらえ きれ ない 情報 を 文中 の 広い 範囲 を 同時 的に 調べる こと に よって 取り出す 必要 が ある ．日本 語 文 解析 の 困難 さ の 原因 の 一 つ である 並列 構造 の 範囲 に 関する 曖昧 性 の 問題 も ， このような 「 広い 範囲 を 同時 的に 調べる 」 こと を 必要 と する 問題 の 一 つ である ．日本 語 文 は ， 特に 長い 文 に なれば なる ほど 多く の 並列 構造 を 含んで いる ．「 〜 し ， 〜 し ， 〜 する 」 の ように ， いわゆる 連 用 中止 法 に よって 複数 の 文 を 1 文 に まとめる こと が できる こと は 日本 語 文 の 特徴 で も ある ．それ 以外 に も ， 名詞 並列 ， 形容詞 並列 や ， 連 体 修飾 節 の 並列 など が 頻繁に 現れる ．このような 並列 構造 に 対する 従来 の 解析 方法 は ， 基本 的に は 次 の ような もの であった xcite ．例えば 「 ． ． ．原 言語 を 解析 する [ 処理 と ] 相手 言語 を 生成 する [ 処理 を ] ． ． ． ．」  と いう 文 で は ， 並列 構造 前部 の * * 主要 語 * * である 「 [ 処理 ( と ) ] 」 に 対して ， それ より も 後ろ に ある 名詞 の 中 から 最も 類似 して いる 名詞 を 探す と いう 方法 に より 後部 の 主要 語 を 決定 して いた ( この 場合 「 [ 処理 ( を ) ] 」 が 後部 の 主要 語 ) ．しかし 並列 構造 に おいて は ， 主要 語 間 だけ で は なく ， 構造 内 の 他 の 語 の 間 ( この 例 の 場合 「 原 言語 」 と 「 相手 言語 」 ， 「 解析 する 」 と 「 生成 する 」 ) に も ， さらに 文節 列 の 並び ( 「 〜 を〜 する 〜 と〜 を〜 する 〜 」 ) に も 類似 性 が 認め られる 場合 が 多く ， これ ら の 類似 性 を 考慮 する こと に よって より 正確に 並列 構造 を 認識 する こと が できる ．そこ で 我々 は ， 並列 構造 の 存在 を 示す 表現 ( 名詞 並列 を 示す 助詞 「 と 」 など ) の 前後 に おける 最も 類似 度 の 高い 文節 列 の 対 を ， 音声 認識 など で 広く 使わ れて いる ダイナミック プログラミング の マッチング 法 と 同様の 考え 方 を 用いて 発見 する と いう 方法 を 考案 し ， この こと に より  並列 構造 の 高 精度 な 検出 が 可能である こと を 示した xcite ．本 論文 で は ， このように して 検出 した 並列 構造 の 情報 を 利用 して 構文 解析 を 行なう 手法 を 示す ．多く の 場合 ， いったん 並列 構造 が 発見 さ れる と 文 の 構造 は 簡単 化 した 形 で とらえる こと が できる ．その 結果 ， 単純な 係り 受け 規則 を 適用 する だけ で 高 精度 な 構文 解析 が 可能 と なる ．本 手法 は ， たとえば ， 大 規模 な テキスト を 解析 して ， そこ から 新しい 情報 を 取り出そう と する ような 場合 に 特に 有用である ．対象 テキスト 中 の 専門 用語 や 専門 的に 使わ れて いる 述語 に ついて ， それ ら の 相互 間 の 関係 は そこ で 始めて 提示 さ れた 概念 である かも しれ ない ．その 場合 に は ， そのような 概念 の 相互 関係 は 辞書 に 記述 さ れて おら ず ， 辞書 中 の 意味 記述 に 頼った 解析 は 不成功 と なる ．また ， 大 規模 な テキスト を 扱う の に 十分である ような 複雑な 文法 規則 や 詳細な 格 記述 を 用意 する こと は ， 実際 に は 非常に 困難である ．新しい 概念 は 用語 相互 間 の シンタックス に よって 示さ れる のである から ， シンタックス を 尊重 した 解析 が 重要である ．また ， 本 手法 で うまく 扱え ない 問題 を 整理 する こと に よって ， 構文 解析 に おける 本質 的 問題 を 明らかに する こと も 重要な 問題 である ．これ まで の ， 構文 解析 に おける 曖昧 性 の 議論 で は ， 人間 に とって も 曖昧である ような 表現 を 取り 上げた もの が 多かった ．しかし ， 従来 の 構文 解析 法 が 十分で ない と いう 印象 を 人間 に 与える の は ， そのような 点 で は なく ， 人間 であれば 絶対 に し ない ような 部分 に 不必要な 曖昧 性 を 認識 する ため である ．その 原因 が どこ に ある か を 調べる ため に は ， 本 手法 の ように 高 精度 で かつ 決定 論 的に 動作 する 道具立て が 必要である ．',\n",
       " \"並列 構造 の 検出 と 文 の 簡単 化  並列 構造 の 検出 の 概要 1 文中 の 並列 する 部分 は 何らか の 意味 に おいて 類似 して いる と 考える こと が 出来る ．そこ で ， 類似 性 と いう 観点 から 並列 構造 を 検出 する 方法 を 図 [fi g : suitei _ rei ] を 用いて 説明 する  ( 詳細 は 文献 xcite 参照 ) ．並列 構造 の 存在 を 機械 的に 認識 する こと は 比較的 容易である ．* * 名詞 並列 * * は ， 名詞 の 直後 の 読点 や 助詞 「 と 」 ・ 「 や 」 など に よって 認識 でき ， * * 述語 並列 * * は ， 述語 自身 が 連用形 である こと や 述語 が 助詞 「 が 」 など を 伴う こと に よって 認識 できる ( このように 並列 構造 の 存在 を 示す 文節 を * * 並列 の キー * * と よぶ こと に する ) ．問題 と なる の は ， そういった 表現 が ある 場合 に その 前後 の どこ まで が 並列 構造 の 範囲 である か と いう こと である ．そこ で まず ， 文節 間  [ ^ 1 ] の 類似 度 を 品詞 の 一致 ， 文字 列 の 一致 ， シソーラス に よる 意味 的な 近 さ ， など に よって 定義 し ， 全て の 文節 間 に ついて この 値 を 計算 した ．図 [fi g : suite i _ rei ] の 三角 行列 で は ， 対角 要素 は 文節 を ， ( i ， j ) 要素 は i 番 目 の 文節 と j 番 目 の 文節 の 類似 度 を 示して いる ．次に いく つ か の 連続 した 文節 ， すなわち 文節 列 相互 間 の 類似 度 を 考える ．その ため に 以下 の 用語 を 定義 する ．部分 行列 :    並列 の キー の 右 上部 分 の 行列 ( 図 [fi g : suitei _ rei ] で は 点線 で 囲ま れた 部分 ) ．パス :    部分 行列 の 中 の 1 番 下 の 行 の 0 以外 の ある 要素 から 1 番 左 の 列 の ある 要素 まで の     左 上 方向 へ の 要素 の 並び ．パス の スコア :    パス に 含ま れる 要素 の 値 の 総和 ．パス 内 の 要素 の 並び が 真 左 上 方向 から     ずれる 場合 に は ペナルティ と して 値 を 小さく する ．パス に 含ま れる 各 要素 の 値 は 並列 の キー の 前後 に ある 2 つ の 文節 間 の 類似 度 を 示して いる ので ， それ ら の 値 の 総和 である パス の スコア は パス の 左 側 の 文節 列 と 下 側 の 文節 列 の 間 の 類似 度 を 示して いる ．パス の 方向 の ずれ に 対して ペナルティ を 与える の は ， それ に よって 文節 数 が 同じ ぐらい の 文節 列 間 の 類似 度 を 相対 的に 高く する ため である ．このように 考える と ， 文節 列 間 の 類似 度 を パス の スコア と いう 形 で 計算 する こと が できる ように なる ．そこ で ， ダイナミック プログラミング の 手法 に よって 並列 の キー に 対する 最大 スコア の パス を 求め ， その パス に よって 示さ れる 最も 類似 度 の 高い 文節 列 を 並列 構造 の 範囲 と 考える こと に する ．図 [fi g : suite i _ rei ] の 例 で は ， 実線 で 囲ま れた 要素 の 並び が 最大 スコア の パス と して 求まり ， この パス に よって 正しい 並列 構造 の 範囲 が 検出 さ れる ．実験 と して 30 文字 〜 50 文字 ， 50 文字 〜 80 文字 ， 80 文字 以上 の 各 60 文 ， 合計 180 文 の 日本 語 文 に 対して この 手法 を 適用 した ところ ， 82 % の 並列 の キー に 対して 正しい 並列 構造 を 検出 する こと が できた ．これ は 文献 xcite で 既に 発表 した ．この 方法 に よって 求まった 並列 構造 の 範囲 は * * 前部 * * と * * 後部 * * から なり ， 前部 の 最初の 文節 を * * 起点 文節 * * ， 後部 の 最後の 文節 を * * 終点 文節 * * と よぶ こと に する ( 以降 本 論文 で は ， * * 前部 * * ， * * 後部 * * と いう 用語 は ， 並列 構造 を 構成 する 文節 列 を 示す もの と する ) ．終点 文節 は 前部 と 後部 を 分かつ 並列 の キー ( 前部 の 最後の 文節 ) と 対応 する 文節 であり ， パス の 定義 から わかる ように これ ら 2 つ の 文節 は 類似 度 を もった もの が 選ば れる ．一方 ， 並列 構造 の 前部 と 後部 に は それぞれ 並列 の キー と 終点 文節 を 修飾 して いる 文節 列 が あり ， 起点 文節 は 前部 の 修飾 部分 が どこ まで である か を 示して いる ．しかし ， 前部 と 後部 の 修飾 部分 に は 正確な 対応 関係 が ある わけで は なく ， 起点 文節 は 主に バランス ( 文節 数 の 同じ 文節 列 の 類似 度 が 高い ) と いう 観点 から 決定 さ れる ．その ため ， 起点 文節 は 並列 構造 の 始まり の 位置 を 必ずしも 正確に 示して いる わけで は ない ．その 最終 決定 は 係り 受け 解析 の 段階 で 処理 する ( [subsec : enchou ] 節 ) ．なお ， 検出 さ れた 並列 構造 の うち 次の 二 つ の 条件 を 満たす ， とくに 類似 度 の 高い もの を * * 強 並列 * * と よぶ こと に する ．-    前部 の 文節 数 ( n 1 ) と 後部 の 文節 数 ( n 2 ) が ほぼ 等しい ．-    並列 構造 を 与える パス の スコア が 高い ．[ ^ 2 ] たとえば ， 次の 文 の 下線 部分 は 強 並列 である ．＞  例文 2 : 「 もちろん 、 問題 の 大部分 は 、 ある 現象 を 調べる の に どんな アルゴリズム が ＞  必要 か を 正確に 見定める こと で ある が 、 コンピューター の アーキテクチャ が ＞  その 開発 の  [ 助け に なる こと も あれば 、 ] ＞  [ 妨げ に なる こと も ある 。 ] 」 強 並列 は ， 以降 の 処理 に おいて 他 の 並列 構造 と 若干 異なった 扱い を する ．並列 構造 間 の 関係 の 整理 に よる 文 の 簡単 化 前節 の 処理 で 得 られた 並列 構造 の 範囲 に 関する 情報 を まとめる こと に よって ， 文 の 大まかな 構造 を 把握 する こと が できる ．この 処理 は ， まず 二 つ の 並列 構造 間 の 関係 を 明らかに し ， それ を もと に 1 文 内 の 全て の 並列 構造 間 の 関係 を 整理 する こと に よって 行う ．並列 構造 の 範囲 は ，  { 起点 文節 の 位置 ， 並列 の キー の 位置 ， 終点 文節 の 位置 } の 3 組 値 で 表す こと が できる ．1 文 内 に 2 つ の 並列 構造 が 存在 する とき ， 図 [fi g : kankei ] に 示す ように ， 前方 の 並列 構造 X の 範囲 を {x 1 ， x 2 ， x 3 } ， 後方 の 並列 構造 Y の 範囲 を {y 1 ， y 2 ， y 3 } と する ．並列 構造 間 の 関係 が 問題 と なる の は ， その 範囲 が 重なる 場合 ， すなわち  y 1 xmath 3  x 3  の 場合 である ．この とき y 1 と x 1 ， x 2 ， および x 3 と y 2 ， y 3 の 関係 に よって 2 つ の 並列 構造 間 の 位置 関係 を 図 [fi g : kankei ] の ように 分類 できる ．この 16 の 位置 関係 は 次の 3 つ の 関係 に 分類 する こと が でき ， その それぞれ に 対して 次 の ような 処理 を 行う ．兄弟 関係 :    - - -  F     前節 の 処理 で は ， 3 つ 以上 の 部分 から なる 並列 構造 は ， F の 位置 関係 に ある 複数 の     並列 構造 の 組合せ と して 検出 さ れる ．そこ で F の 位置 関係 に ある 並列 構造 は 1 つ の 並列 構造 に まとめる     ( 図 [fi g : kankei _ rei ] (a) ) ．親子 関係 :    - - -  A ， B ， C ， D ， E ， G ， H ， M ， N     ある 並列 構造 の 中 に さらに 並列 構造 が 含ま れる 入れ 子 構造 の 場合 である ．この うち A ， B ， C ， G の 位置 関係 の 場合 は 並列 構造 Y の 前部 を 並列 構造 X を     含む ように 延長 する ( 図 [fi g : kankei _ rei ] ( b ) ) ．逆に E の 場合 は 並列 構造 X の 後部 を 並列 構造 Y を 含む ように 延長 する     ( 図 [fi g : kankei _ rei ] ( c ) ) ．違反 関係 :    - - -  I ， J ， K ， L ， O ， P     これ ら の 位置 関係 は ， 正しい 並列 構造 の 重なり で は なく ，     並列 構造 の 検出 の 誤り に よって 生じた もの である と 考え られる ．このような 関係 に ある 並列 構造 に ついて は 次 節 で 示す 方法 に よって     並列 構造 の 再 検出 を 行う ．なお ， I ， J の 位置 関係 は 親子 関係 と した C ， G と 左右 対称 である が ，     並列 構造 の 後部 に ついて は 前節 の 処理 で 正確な 範囲 が 求まって おり     後方 へ 延長 する こと は ない ので ， 違反 関係 と する     ( E の 親子 関係 の 場合 は 特別 ， 図 [fi g : kankei _ rei ] ( c ) と     図 [fi g : kankei _ rei ] ( d ) 参照 ) ．なお ， 並列 構造 の 類似 度 が 高い 強 並列 で は ， その 中 の 文節 が それぞれ 強く 対応 して おり ， 意味 的に 強い ま ̇ と ̇ ま ̇ り ̇ を なして いる と 考え られる ．その ため ， 外部 の 並列 構造 ( 並列 の キー が 強 並列 の 範囲 の 外 に ある もの ) の 境界 が 強 並列 の 内部 に ある 場合 は 違反 関係 と する ．すなわち ， 後 の 並列 構造 が 強 並列 である 場合 に ， A ， E の 位置 関係 を 違反 関係 と する ．これ ら の 処理 の 具体 例 を 図 [fi g : kankei _ rei ] (a) の 例文 ( 以後 ， 例文 3 と よぶ ) に ついて 示す ．この 例文 の 場合 ， 前節 の 処理 で 次の 3 つ の 並列 構造 が 検出 さ れる ．-    CS 1  xmath 4 表題 ， xmath 5  -  xmath 6 著者 ， xmath 7 -    CS 2  xmath 8 著者 ， xmath 9  -  xmath 10 主題 など の xmath 11 -    CS 3  xmath 12 主題 など の〜 再 編成 し ， xmath 13  -     xmath 14 索引 の〜 記録 して おく ．xmath 15  この うち CS 1 と CS 2 は 兄弟 関係 に ある ので ， これ ら を 3 つ の 部分 から なる 1 つ の 並列 構造 CS ' ( xmath 16 表題 ， xmath 17  -  xmath 18 著者 ， xmath 19  - xmath 20 主題 など の xmath 21 ) に まとめる ．さらに ， CS 2 と CS 3 ， すなわち CS ' と CS 3 が 親子 関係 に ある ので ， CS 3 の 前部 を 「 表題 ， 著者 ， 」 の 部分 を 含む ように 延長 する ．これ ら の 処理 の 結果 ， 図 [fi g : heiretu _ tree ] に 示す ように ， 文 の 大まかな 構造 を 得る こと が できる ．違反 関係 に ある 並列 構造 の 修正 文 内 に 違反 関係 の 並列 構造 が ある 場合 に は ， 並列 構造 の 検出 の やり 直し を 行なう ．違反 関係 に ある 2 つ の 並列 構造 の うち ， スコア の 高い 方 の 並列 構造 の 範囲 を 基準 と し ， その 範囲 に 対して 違反 関係 に なら ない ような 並列 構造 を もう 一方 の 並列 の キー に ついて 再 検出 する ．たとえば ， 前方 の 並列 構造 X の 再 検出 を 行なう 場合 に は ， x 2 ， y 1 ， y 2 ， y 3 の 値 に 対して 図 [fi g : kankei ] の 関係 式 に よって 正しい 位置 関係 を 与える ような x 1 ， x 3 の 値 の 範囲 を 求める ．並列 構造 の 再 検出 で は ， 並列 構造 の 起点 文節 と 終点 文節 の 位置 を このように して 求まった 範囲 内 に 制限 し ， その 中 で もっとも 類似 度 の 高い 並列 構造 を 求める ．図 [fi g : kanke i _ shuusei ] に 並列 構造 の 再 検出 の 例 を 示す ．図 の 中 に 示した 表 は ， 並列 構造 xmath 22 プログラム ， データ だけ で なく ， xmath 23  - xmath 24 ファイル ， データベース を も xmath 25 を 基準 と して 並列 の キー 「 ファイル ， 」 に 対する 並列 構造 を 再 検出 する 場合 ， 起点 文節 が 6 番 目 の 文節 「 ファイル ， 」 であり ， 終点 文節 が 7 番 目 の 文節 「 データベース を も 」 である 並列 構造 だけ が 制限 を 満たす こと を 示して いる ．すなわち ， この 例文 の 場合 ， 再 検出 さ れる 並列 構造 の 範囲 は 起点 文節 と 終点 文節 に 対する 制限 に よって 一意 に 決まる こと に なる ．違反 関係 に ある 並列 構造 の 組 が 1 文 内 に 複数 ある 場合 に は ， スコア の 差 が 最も 大きい 組 に ついて 再 検出 の 処理 を 行なう ．そして 一 つ の 並列 構造 の 再 検出 を 行う たび に 全体 の 並列 構造 間 の 関係 を 調べ 直し ， 違反 関係 が なくなる まで この 処理 を 繰り返す ．係り 受け 解析 前 章 で 説明 した ように ， 文 内 の 並列 構造 が 決定 さ れる と 文 の 大まかな 構造 が とらえ られた こと に なり ， 文 を 簡単 化 した 形 で 扱う こと が 可能 と なる ．この 結果 ， 簡単 化 さ れた 各 部分 に 対して 単純な 係り 受け 解析 を する だけ で ， 従来 の 構文 解析 より も 頑強な ， すなわち 長い 文 に 対して も 有効な 構文 解析 を 行なう こと が できる ．係り 受け 解析 の 概要 係り 受け 解析 の 目的 は ， 文節 間 の 係り 受け 関係 を 明らかに し ， その 関係 を * * 依存 構造 木 * * に よって 表現 する こと である xcite ．依存 構造 木 で は ， 木 の 節点 に は * * 受け * * の 文節 を ， その 子 の 節点 に は * * 係り * * の 文節 を 配置 する ．日本 語 の 場合 ， 各 文節 は それ より も 後ろ の 文節 に 係る ので ， 最終 的に は 文末 の 文節 を 根 節点 と する 依存 構造 木 が 得 られる ．係り 受け 解析 は ， まず 並列 構造 に 関する 部分 に ついて 行なう ．複数 の 並列 構造 が 入れ 子 構造 ( 親子 関係 ) を なして いる 場合 は ， その 中 の 最も 深い レベル に ある 並列 構造 から 順に 解析 して いく ．そして ， 最後に 文 全体 の 解析 を 行なう ．並列 構造 の 前部 と 後部 は それぞれ 意味 的な まとまり を なして おり ， それぞれ を 1 つ の 依存 構造 木 に まとめる こと が できる ．そこ で ， 並列 構造 を 表す ため に その 2 つ の 依存 構造 木 の 根 節点 ( 依存 構造 木 の 表示 で は ” xmath 26 Pxmath 27 ” を 付加 ) を 子 の 節点 と する 新たな 節点 ( 依存 構造 木 の 表示 で は ” PARA ” と 表記 ， * * 並列 節点 * * と よぶ こと に する ) を 作り ， その 上 の レベル ( 親 の 並列 構造 ， それ が ない 場合 に は 文 全体 ) の 係り 受け 解析 で は ， この 並列 節点 のみ が 扱わ れる ように する ．並列 節点 は ， 係り の 文節 と なる 場合 に は 終点 文節 の 内容 を 継承 し ， 受け の 文節 と なる 場合 に は 並列 の キー と 終点 文節 の 内容 を 継承 する ．こう する こと に よって ， 並列 構造 中 の 並列 の キー と 終点 文節 以外 の 文節 は 並列 構造 の 外 の 文節 の 係り 先 に は なら ない こと に なる ．3 つ 以上 の 部分 から なる 並列 構造 の 場合 は ， 並列 節点 の 子 の 節点 ， すなわち 並列 構造 内 で まとめ られる 依存 構造 木 の 数 が 増える だけ で ， その他 の 処理 は 全く 同じである ．たとえば 図 [fig : heiretu _ tree ] に 挙げた 例文 3 で は ， まず 並列 構造 [ 表題 ， 著者 ， 主題 など の ] の 各 部分 が 処理 対象 と なる ．この 各 部分 は 1 文節 な ので 係り 受け 解析 の 必要 は なく ， 単に それ ら を まとめた 並列 節点 が 作ら れる ( 図 [fi g : kakari _ rei ] (a) ) ．次に ， 並列 構造 [ 表題 ， 〜 記憶 して おく ．] の 前部 と 後部 を 係り 受け 解析 して それぞれ を 依存 構造 木 に まとめ ， さらに 並列 節点 を 作る ( 図 [fi g : kakari _ rei ] ( b ) ) ．そして 最後に 文 全体 を 係り 受け 解析 し ， 文 全体 の 依存 構造 木 を 得る ( 図 [fi g : kakari _ rei ] ) ．一定 範囲 内 の 文節 列 の 係り 受け 解析 並列 構造 を 1 つ の もの と 見る こと に よる 文 の 簡単 化 が うまく いった と して ， 次に その 各 部分 を どのような 規則 で 係り 受け 解析 する か と いう こと が 問題 と なる ．我々 は まず ， 次 の ような 優先 規則 に よって 決定 論 的に 動作 する 解析 を 考えた ．-    解析 す べき 範囲 に ついて 後ろ から 順に 各 文節 の 係り 先 を 決定 する ．-    各 文節 の 係り 先 は ， 係り 受け 関係 が 相互 に 交差 し ない 条件 ( 非 交差 条件 ) を     みたし ， かつ 係 ̇ り ̇ 得 ̇ る ̇ 文節 の うち  最も 近い 文節 と する xcite  [ ^ 3 ] ．-    係り 得る 関係 は 次の もの である  [ ^ 4 ] ．ただし ， 助詞 「 が 」 ・ 「 を 」 を 伴う 文節 は ，     それぞれ 同じ 述語 に 2 つ 以上 は 係り 得 ない ．-    * * 名詞 * * に 係り 得る :   連体詞 ， 助詞 「 の 」 ， 活 用語 の 基本 形 ・ タ 形     -    * * 動詞 * * に 係り 得る :  活用 語 の 連用形 ， 副 詞 ， 助詞     -    * * 述語 の イ 形容詞 ・ ナ 形容詞 * * に 係り 得る :          活 用語 の 連用形 ， 副 詞 ， 助詞 ( 「 を 」 ・ 「 へ 」 以外 )     -    * * 連 体形 の イ 形容詞 * * に 係り 得る :          副 詞 ， 助詞 「 が 」 ・ 「 の 」 ・ 「 に 」 ・ 「 より 」     -    * * 連 体形 の ナ 形容詞 * * に 係り 得る :          副 詞 ， 助詞 「 が 」 ・ 「 に 」 ・ 「 より 」     -    * * 連用形 の イ 形容詞 ・ ナ 形容詞 * * に 係り 得る :  副 詞     -    * * 名詞 ＋ 判定 詞 * * に 係り 得る :          活用 語 の 連用形 ， 副詞 ， 助詞 ( 「 を 」 以外 ) ．* * 述語 の イ 形容詞 ・ ナ 形容詞 * * と は ， 読点 を 伴う もの ， 文末 の もの ， 「 〜 と いう 」 など の 表現 を 伴う もの を さす ．それ 以外 の 場合 の 連 体形 ， 連用形 の 形容詞 に ついて は ， その 係り 先 の 体言 ， 用言 の 方 が 意味 的に 強い と 考え ， 上記 の ように それ ら の 形容詞 に 係り 得る 文節 を 制限 した ．図 [fi g : kakar i _ gairyaku ] の 例 で は ， 文節 2 ， 文節 3 ， ． ． ．の 順に 係り 先 を 決定 して いき ， 文節 6 の 係り 先 を 調べる 段階 で は ， 非 交差 条件 に よって 文節 4 ， 文節 3 は 対象 外 と なり ， 文節 5 ， 文節 2 ， 文節 1 の 順で 係り 得る 文節 を 探す ．このような 方法 で 30 文 の 学習 サンプル ( 岩波 情報 科学 辞典 の テキスト ) に 対して 係り 受け 解析 を 行なった ところ ，  幾 つ か の 問題 点 が 明らかに なった ．そのうち ， 語彙 に 依存 した 問題 で は なく ， 一般 性 を もった 問題 を 解決 する ため に 次の 3 つ の タイプ の 文節 に 対する 規則 を 新たに 加えた ．区切り 文節 に 対する 規則 :         並列 構造 の 検出 で は 主従 関係 に ある 述語 の 接続 は 対象 と して い ない ．これ は ， 主 節 と 従属 節 の 間 に は 類似 性 が 存在 する と は いえ ない ため である ．その ため ， 文 を 簡単 化 した 各 部分 の 中 に は 主従 関係 の 述語 の 接続 が 含ま れて いる ．実際 に 文 を 解析 した 結果 を みて みる と ， これ ら の うち 条件 を 示す 述語     ( 「 〜 すれば ， 」 など ) と 因果 関係 を 示す 述語 ( 「 〜 する ので ， 」 など ) が     読点 を 伴って いる 場合 ， 非常に 意味 的な 区切り が 強い こと が 分かった ．そこ で ， この 種 の 述語 を * * 区切り 文節 * * と し ，     その 係り 先 は 係り 得る 最も 近い 文節 で は なく 最も 遠い 文節 と する ．読点 を 伴う 文節 に 対する 規則 :         文 が 読点 で 区切ら れる の は ， そこ に 意味 的な 区切り が 存在 する こと を 示す ため であり ，     それ を 伴った 文節 が 少し 離れた 文節 に 係って いく こと を 示して いる と 考え られる ．そこ で 読点 を 伴う 文節 は ， 係り 得る 最初の 文節 を 飛び越して     2 番 目 の 文節 に 係る と する ．ただし ， 次の 場合 に は この 規則 は 適用 し ない ．-    係り 得る 最初の 文節 が 上述 の 区切り 文節 である 場合 ．-    「 xmath 28  [ 〜 する ] こと が 多い ．」 ，  「 xmath 29         [ 〜 である ] と 考える ．」         など の 表現 で 下線 部分 が 係り 得る 最初の 文節 である 場合 ．このような 表現 で は ， 下線 部分 の 述語 まで が 意味 的な まとまり を なして おり ，         文末 の 述語 は 付随 的である と 考え られる ため ，         下線 部分 の 述語 を 飛び越して 文末 の 述語 に 係る と は し ない ．この 下線 部分 の 述語 も ， 受け の 文節 と して は 区切り 文節 である と する ．-    係り 得る 最初の 文節 が 並列 構造 を まとめた 並列 節点 の 文節 である 場合 ．並列 構造 外 の 文節 が 並列 節点 ( 並列 の キー 文節 と 終点 文節 ) に 係る 場合 に は ，         かなり 離れた 文節 に 係る こと に なる ため ．-    係り 得る 文節 が 解析 対象 範囲 内 に 1 つ しか ない 場合 ．助詞 「 は 」 を 伴う 文節 に 対する 規則 :         助詞 「 は 」 は 文 ( あるいは 文 を 簡単 化 した とき の ある 部分 ) の 主題 を 示す ので ，     これ を 伴う 文節  [ ^ 5 ]  に 対して は 係り 得る 最も 近い 文節 に 係る と いう 規則 は     当てはまら ない ．その 係り 先 は 区切り 文節 と の 相対 的 関係 で 微妙である が ，     実際 の 文 解析 の 結果 から 次 の ような 規則 を 用いる こと に した ．なお ， 係り 受け 解析 の 対象 範囲 内 の 最後の 述語 も 区切り 文節 と する ．-    助詞 「 は 」 を 伴い 読点 を 伴わ ない 場合 :         最も 近い 区切り 文節 に 係る と する ( 図 [fi g : H A ] (a) ) ．-    助詞 「 は 」 と 読点 を 伴う 場合 :         最も 遠い 区切り 文節 に 係る と する ( 図 [fi g : H A ] ( b ) ) ．ただし ， その 文節 に 付属 語 が 全て 同じである 文節 が 係って いて ， かつ ， その 前 に も         区切り 文節 が 存在 する 場合 に は 前 の 区切り 文節 に 係る と する ( 図 [fi g : H A ] ( c ) ) ．例えば ， 例文 4  ( 図 [fi g : kakar i _ rei 5 ] ) の 場合 ， 「 ミハイロフ ら が ， 」 は 読点 を 伴う ため に ， 係り 得る 最初の 文節 「 追究 する 」 で は なく 2 番 目 の 「 与えた 」 に 係る ．また ， 「 用語 は 」 は 助詞 「 は 」 を 伴う ので 係り 先 と して 区切り 文節 を 探し ， その 結果 ， 文末 の 文節 「 言葉 である ．」 に 係る こと に なる ．例文 5 ( 図 [fi g : kakar i _ rei 6 ] ) の 場合 は ， 文節 「 とらえ られる ので ， 」 が 区切り 文節 である ため ， 助詞 「 は 」 を 伴う 文節 「 内容 は 」 は この 区切り 文節 に 係り ， この 区切り 文節 自身 は 係り 得る 最も 遠い 文節 である 「 分野 である ．」 に 係る ．これ ら の 規則 で うまく 扱う こと が でき ない 問題 に ついて は [sec : evaluation ] 章 で 議論 する ．並列 構造 の 範囲 の 延長 前節 で 述べた 並列 構造 の 検出 方法 で は その 前部 が どこ から 始まる か に ついて 正確な 情報 が 得 られ ない ので ， 係り 受け 解析 の 段階 で これ を 明らかに する 必要 が ある ．そこ で ， ” 検出 した 並列 構造 の 起点 文節 より 前 の 文節 であって も ， その 並列 構造 内 の 文節 に 係る こと が 妥 ̇ 当 ̇ で ̇  あ ̇ る ̇ 文節 は 並列 構造 に 含ま れる と みなす ” と いう 考え 方 で 並列 構造 の 範囲 の 延長 を 行なう ．延長 を 行なう の は ， 述語 を 含む 並列 構造 ， すなわち 述語 並列 の 場合 と 連 体 修飾 節 を 含む 名詞 並列 の 場合 で ある  [ ^ 6 ] ．そのような 並列 構造 の 場合 ， その 前部 の 係り 受け 解析 を ， 並列 構造 と して 検出 さ れた 範囲 内 だけ で なく さらに その 前 の 部分 に 対して も 延長 して 行なう ．ただし ， 延長 の 解析 は 次 の ように 行なう ．-    解析 対象 の 文節 が 読点 あるいは 助詞 「 は 」 を 伴う 場合 は ，     延長 の 処理 を 終了 する ．そのような 文節 は ， 並列 構造 と の 間 に 意味 的な 区切り が あり ，     並列 構造 内部 の 文節 に 係る ので は なく ， 並列 構造 全体 ， あるいは さらに 後ろ の 文節 に     係る と 考え られる から である ．-    並列 の キー を 係り 先 の 対象 から 外して 係り 受け 解析 を 行ない ，     係り 先 が ない 場合 に は ， 延長 の 処理 を 終了 する ．並列 の キー を 係り 先 の 対象 から 外す の は ， もし 並列 の キー に 係る のであれば ，     それ と 対応 して いる 終点 文節 に も 係る と 考え られ ，     そのような 係り 受け 関係 は その 上 の レベル の 係り 受け 解析 に おいて 並列 節点 と の     関係 と して 扱う から である ．たとえば ， 図 [fi g : suite i _ rei ] で 示した 例文 1 で は ， 起点 文節 の 前 の 「 その 」 は 「 可能 性 を 」 に 係る と 考えて 並列 構造 に 含ま れる と し ， 助詞 「 は 」 および 読点 を 伴う 「 解消 する ため に は ， 」 の ところ で 延長 の 処理 を 終了 する ．最終 的に 得 られる 依存 構造 木 を 図 [fi g : kakari _ rei 1 ] に 示す ．なお ， 延長 を 考える 並列 構造 が 強 並列 の 場合 は ， 並列 構造 内 の 前部 と 後部 の 各 文節 が 強く 対応 して いる ので ， 延長 する 部分 の 文節 が 上述 の ように 前部 の 文節 だけ に 係る と 考える ので は なく ， 前部 と 後部 の 対応 する 文節 の 対 に 係る と 考える ．この 処理 は ， 並列 構造 後部 に おいて 省略 さ れた 修飾 語 を 補間 する 処理 である と みなす こと も できる ．たとえば ， [subse c : heiretu _ kenshutu ] 節 で 示した 例文 2 で は ， 「 その 開発 の 」 は 「 助け 」 と 「 妨げ 」 の 両方 に ， 「 コンピューター の アーキテクチャ が 」 は 「 ( 助け に ) なる 」 と 「 ( 妨げ に ) なる 」 の 両方 に 係る と する ( 図 [fi g : kakari _ rei 2 ] ) ．係り 受け 解析 を 失敗 した 場合 これ まで 説明 して きた 規則 に よって 並列 構造 の 各 部分 を 係り 受け 解析 する と ， ある 文節 に 対して その 係り 得る 文節 が なくなり ， 解析 が 失敗 する と いう こと が ある ．このような 失敗 は ， もともと 1 つ の 依存 構造 木 に まとめる こと が でき ない 不 完全な 部分 が 並列 して いる 場合 ( このような 並列 構造 を * * 部分 並列 * * と よぶ こと に する ) と ， 検出 さ れた 並列 構造 の 範囲 が 誤り である 場合 に 起こる ．部分 並列 は ， 前部 と 後部 の 述語 が 等しい 述語 並列 に おいて 前部 の 述語 が 省略 さ れた 構造 である ( 図 [fi g : incom _ new ] (a) ( b ) ) ．そこ で ， 次の 2 つ の 条件 を みたす 場合 に その 並列 構造 を 部分 並列 と みなす ( 図 [fi g : incom _ new ] ( c ) ) ．-    並列 構造 の 前部 と 後部 の 両方 で     ( 3 つ 以上 の 部分 から なる 並列 構造 で は その 各 部分 で ) 係り 受け 解析 が 失敗 する ．-    係り 先 が ない 文節 の 付属 語 が すべて 等しい ．たとえば ， 次の 文 の 下 線 部分 は 部分 並列 である ．＞  例文 6 : 「 図 に 示す ように ， [ 電流 源 に pnp トランジ スター ， ] ＞  [ スイッチング に np n ] ＞  [ トランジ スター を ] 使用 し ， ． ． ．」 部分 並列 の 場合 は ， 並列 の キー ， 終点 文節 に 加えて ， 係り 先 の ない 文節 も いったん 並列 節点 の 子 節点 と する  ( 図 [fi g : incom _ new ] ( d ) ) ．そして ， 次の レベル の 解析 に おいて 並列 節点 の 係り 先 が 明らかに なった 段階 で ， その 係り 先 の 文節 を 前部 に 対して 補う こと に よって 述語 並列 へ の 変換 を 行う ( 図 [fi g : incom _ new ] (e) ) ．さらに ， 部分 並列 の 並列 の キー 文節 の 助詞 が 省略 さ れて いる 場合 は ， 終点 文節 の 助詞 に よって それ を 補 間 する ．例文 6 の 場合 ， 助詞 「 を 」 と 述語 「 使用 し 」 が 補わ れる ( 図 [fi g : kakari _ rei 4 ] ) ．係り 受け 解析 が 失敗 し ， 上記 の 条件 が 成り立た ない 場合 に は ， 並列 構造 の 検出 が 誤って いた と 考え ， 並列 構造 の 検出 の やり 直し を 行なう ．係り 受け 解析 の 失敗 が 起こら ない ような 並列 構造 を 検出 する ため に ， その 起点 文節 と 終点 文節 の 位置 に ついて 次 の ような 制限 を 与える ．-    並列 の キー から 文 の 先頭 まで を 対象 範囲 と して 係り 受け 解析 が     可能 か どう か を 調べる ．ある 位置 で 解析 が 失敗 する 場合 は ， 並列 構造 の 前部 が それ より も 広い 範囲 に     なる と 必ず 解析 が 失敗 する ので ，     起点 文節 の 位置 は その 失敗 した 位置 より も 後ろ である と する ．-    並列 構造 の 後部 と して 考え られる すべて の 範囲 に ついて     その 中 の 係り 受け 解析 が 可能である か どう か を 調べ ，     可能で ない 場合 は その 範囲 の 末尾 の 文節 が 終点 文節 と なる こと を 禁止 する ．並列 構造 の 再 検出 を 行なった 場合 は ， 並列 構造 間 の 関係 を 求める 処理 まで 戻って 解析 を やり 直す ．図 [fi g : kakar i _ shuusei ] に 並列 構造 の 再 検出 の 例 を 示す ．図 の 中 に 示した 表 は ， 再 検出 する 並列 構造 が 係り 受け 解析 可能である ため に は ， 起点 文節 に 対する 制限 は ない が ， 終点 文節 は 5 番 目 の 文節 「 文書 処理 と ともに 」 か 10 番 目 の 文節 「 なす ．」 に 限ら れる こと を 示して いる ．\",\n",
       " '文 解析 の 結果 と その 評価 本 手法 に よる 文 解析 の 実験 を テスト サンプル の 150 文 に 対して 行なった  [ ^ 7 ] ．テスト サンプル は ， 文字 数 が 30 〜 50 文字 ， 50 〜 80 文字 ， 80 文字 以上 の もの を それぞれ 50 文 づつ ランダム に 収集 した ．定量 的 評価  係り 受け 解析 全体 に ついて  { 係り 受け 解析 全体 に ついて ．unnumbere d } 150 文 の 解析 結果 に ついて 人手 で 評価 を 行なった ．まず 文節 を 並列 の キー ， 用言 に 係る 文節 ， 体言 に 係る 文節 の 3 タイプ に 分類 し ， 並列 の キー に ついて は 正しい 終点 文節 が  検出 さ れて いる か ， 用言 に 係る 文節 ， 体言 に 係る 文節 に ついて は 正しい 係り 先 が 求まって いる か を 調べた ( 表 [tab : hyouka ] ) ．また ， 各 文 を その 長 さ と 並列 構造 の 有無 に よって 分類 し ， 文中 の 全て の 並列 構造 が 正しく 求まって いる か ( 文 の 簡単 化 が 正しく 行なわ れた か どう か ) ， さらに 文 全体 の 依存 構造 が 正しく 求まって いる か どう か を 調べた ( 表 [tab : hyouka 2 ] 上部 ) ．次に ， 本 手法 の 有効 性 ， 特に 並列 構造 の 検出 に よる 文 の 簡単 化 の 有効 性 を 調べる ため に 比較 実験 を 行なった ．この 比較 実験 で は ， 並列 の キー に 対して ダイナミック プログラミング に よる 並列 構造 の 範囲 推定 を 行なわ ず に ， 単に それ を 最も 類似 する 文節 に 対応 付ける と いう 規則 を 用いた ( 2 ．1 節 の 文節 間 類似 度 の 計算 を 用いた ) ．この 規則 と 本 論文 で 示した 係り 受け の 優先 規則 に よって ， 文末 の 文節 から 順に その 係り 先 あるいは 対応 先 を 決定 する と いう 形 で 文 解析 を 行なった ．この 方法 に よる 解析 結果 を 表 [tab : hyouka 2 ] 下部 に 示す ．この 実験 で 対象 と した の は かなり 長い 文 であり ， 1 文 当たり の 文節 数 も 多い ( 平均 14 ．3 ) ．各 文節 に 対して 係り 先 の 候補 が 多数 ある ため 解析 の 誤り が 起こる 可能 性 が 高く ， また 1 文 の 解析 結果 ( 依存 構造 木 ) の 中 に 誤り が 含ま れる 可能 性 も 高く なる ．このように 文 が 長く なった 場合 ， 文 の 簡単 化 を 行なわ なければ 表 [tab : hyouka 2 ] に 示した ように 解析 成功 率 は 極端に 低下 する ．このような 条件 を 考えれば ， 本 手法 の 文 単位 の 解析 成功 率 65 % ( 97 / 150 ) は 決して 低く ない と 考え られる ．また 表 [tab : hyouka ] に 示す 通り 文節 単位 の 解析 成功 率 は 十分に 高い ので ， 解析 誤り を 一部 に 含む 場合 でも 文 の おおまかな 構造 は 多く の 場合 正しく 求まって おり ， そこ から なんらか の 情報 を 取り出す こと は 十分 可能である ．並列 構造 の 再 検出 に ついて  { 並列 構造 の 再 検出 に ついて ．unnumbere d } 215 個 の 並列 の キー に ついて は ， 1 度 目 の 並列 構造 の 検出 で 正しい 終点 文節 が 求まった もの は 175 個 であった が ， 並列 構造 間 の 違反 関係 に よって 再 検出 の 対象 と なった 5 個 の 並列 の キー に ついて すべて 正しい 終点 文節 が 求まり ， さらに ， 並列 構造 内 の 係り 受け 解析 の 失敗 に よって 再 検出 の 対象 と なった 8 個 の 並列 の キー の うち 5 個 に ついて 正しい 終点 文節 が 求まった ．なお 再 検出 の 対象 に なった 並列 の キー は ， すべて ， 最初の 検出 で 誤った 並列 構造 が 検出 さ れた もの であった ．係り 受け 解析 の 優先 規則 に ついて  { 係り 受け 解析 の 優先 規則 に ついて ．unnumbere d } 例文 中 に は ， 区切り 文節 は 20 個 ( 係り 受け 解析 の 対象 範囲 の 最後の 述語 である ため に 区切り 文節 と した もの は 除く ) ， 読点 を 伴う 文節 は 274 個 ( 並列 の キー ， 助詞 「 は 」 を 伴う 文節 を 除く ) ， 助詞 「 は 」 を 伴う 文節 は 115 個 存在 した が ， それ ら を 扱う ため に 追加 した 係り 受け 規則 は すべて 有効に 働き ， 解析 に 悪 影響 を 与えた 例 は なかった ．たとえば ， 読点 を 伴う 文節 の 係り 先 は 2 番 目 の 係り 得る 文節 と した が ， 実際 に は 3 番 目 の 文節 に 係る こと が 正解 である ため に 誤り と なる 例 は あった が ， 1 番 目 の 文節 に 係る こと が 正解 であり 読点 に 対する 追加 規則 の ため に それ が 正しく 取り出せ ない と いう 例 は なかった ．おわり に 従来 方式 の 構文 解析 で は 長い 文 の 中 に 多く 存在 する 並列 構造 を 正しく 認識 する こと が 困難であり ， その こと が 長い 文 を 解析 する 上 で の 大きな 問題 であった ．本 論文 で は ， まず 文 内 の 並列 構造 の 範囲 を 文節 列 同士 の 類似 性 を 発見 する と いう 考え 方 に よって 検出 し ， 次に 並列 構造 の 情報 を 利用 し ながら 簡単な 係り 受け 解析 を 行なう と いう 方法 に よって ， 長い 文 に 対して も 有効であり ， かつ 高 精度 な 構文 解析 が 実現 できる こと を 示した ．次の ステップ で は ， 構文 解析 に よって 求まった 依存 構造 木 に おいて 依存 関係 に ある 文節 間 の 格 関係 の 推定 を 行ない ， 同時に その 過程 で 省略 語句 の 復元 や 指示詞 の 指示 対象 の 同定 を 行なう こと を 考えて いる ．この レベル の 処理 が 実現 さ れて ， 始めて 文 から ある 種 の 意味 が 取り出せる こと に なる ．']"
      ]
     },
     "execution_count": 162,
     "metadata": {},
     "output_type": "execute_result"
    }
   ],
   "source": [
    "jum['sections'][1]"
   ]
  },
  {
   "cell_type": "code",
   "execution_count": null,
   "metadata": {},
   "outputs": [],
   "source": [
    "import pandas as pd\n",
    "from sklearn.model_selection import train_test_split\n",
    "\n",
    "# 加载数据\n",
    "df = pd.read_json('./NLP_JP_CORPUS_INCREMENTAL_JUMAN.json', orient='records', encoding='utf-8')\n",
    "\n",
    "# 定义划分比例\n",
    "train_ratio = 0.75\n",
    "val_ratio = 0.125\n",
    "test_ratio = 0.125\n",
    "\n",
    "# 划分数据集\n",
    "train_val, test = train_test_split(df, test_size=test_ratio, random_state=42)\n",
    "train, val = train_test_split(train_val, test_size=val_ratio/(train_ratio+val_ratio), random_state=42)\n",
    "\n",
    "# 保存分割后的数据集为 json 文件\n",
    "train.to_csv('train.json', index=False)\n",
    "val.to_csv('val.json', index=False)\n",
    "test.to_csv('test.json', index=False)"
   ]
  }
 ],
 "metadata": {
  "kernelspec": {
   "display_name": "summarization",
   "language": "python",
   "name": "python3"
  },
  "language_info": {
   "codemirror_mode": {
    "name": "ipython",
    "version": 3
   },
   "file_extension": ".py",
   "mimetype": "text/x-python",
   "name": "python",
   "nbconvert_exporter": "python",
   "pygments_lexer": "ipython3",
   "version": "3.10.13"
  }
 },
 "nbformat": 4,
 "nbformat_minor": 2
}
